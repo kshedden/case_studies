{
 "cells": [
  {
   "cell_type": "markdown",
   "id": "0",
   "metadata": {},
   "source": [
    "# Understanding the relationships among characteristics of notable people\n",
    "\n",
    "\"Notability\" is a social construct with no fixed definition.  The BHHT data contain four main attributes describing the notable people -- sex, occupation, birth era, and region.  These characteristics can be used to understand the social construction of notability in different contexts.  For example, we can consider how the joint distribution of sex and occupation varies geographically (by region) and over time.\n",
    "\n",
    "The characteristics of notable people in the BHHT data are [nominal](https://en.wikipedia.org/wiki/Nominal_category) (except birth year, which can be recoded if desired to an ordinal \"birth era\" variable).  We can thus represent the data as a 4-way [contingency table](https://en.wikipedia.org/wiki/Contingency_table) (sex x occupation x birth era x region). This contingency table reflects the joint distribution of the four characteristics in the population of interest."
   ]
  },
  {
   "cell_type": "code",
   "execution_count": null,
   "id": "1",
   "metadata": {},
   "outputs": [],
   "source": [
    "import pandas as pd\n",
    "import numpy as np\n",
    "from pathlib import Path\n",
    "import prince\n",
    "import matplotlib.pyplot as plt"
   ]
  },
  {
   "cell_type": "markdown",
   "id": "2",
   "metadata": {},
   "source": [
    "Modify the path below to point to the data file."
   ]
  },
  {
   "cell_type": "code",
   "execution_count": null,
   "id": "3",
   "metadata": {},
   "outputs": [],
   "source": [
    "pa = Path(\"/home/kshedden/data/Teaching/bhht\")"
   ]
  },
  {
   "cell_type": "markdown",
   "id": "4",
   "metadata": {},
   "source": [
    "The entire dataset is around 2.3 million rows.  You can restrict to the first million rows when exploring, then switch to the whole dataset for final analyses."
   ]
  },
  {
   "cell_type": "code",
   "execution_count": null,
   "id": "5",
   "metadata": {},
   "outputs": [],
   "source": [
    "ca = [\"birth\", \"death\", \"gender\", \"un_region\", \"level1_main_occ\", \"name\"]\n",
    "df = pd.read_csv(pa / Path(\"cross-verified-database.csv.gz\"), usecols=ca, encoding=\"latin-1\", nrows=2000000)"
   ]
  },
  {
   "cell_type": "markdown",
   "id": "6",
   "metadata": {},
   "source": [
    "Rename the variables so that they fit better as labels on plots."
   ]
  },
  {
   "cell_type": "code",
   "execution_count": null,
   "id": "7",
   "metadata": {},
   "outputs": [],
   "source": [
    "df = df.rename({\"level1_main_occ\": \"occ\", \"gender\": \"sex\", \"un_region\": \"reg\"}, axis=1)\n",
    "df = df[[\"birth\", \"occ\", \"sex\", \"reg\", \"name\"]].dropna()"
   ]
  },
  {
   "cell_type": "markdown",
   "id": "8",
   "metadata": {},
   "source": [
    "We will focus on people who lived after 1500."
   ]
  },
  {
   "cell_type": "code",
   "execution_count": null,
   "id": "9",
   "metadata": {},
   "outputs": [],
   "source": [
    "df = df.query(\"birth >= 1500\")\n",
    "df.head()"
   ]
  },
  {
   "cell_type": "markdown",
   "id": "10",
   "metadata": {},
   "source": [
    "Remove very infrequent or difficult to interpret categories"
   ]
  },
  {
   "cell_type": "code",
   "execution_count": null,
   "id": "11",
   "metadata": {},
   "outputs": [],
   "source": [
    "df = df.loc[df.occ != \"Other\", :]\n",
    "df = df.loc[df.occ != \"Missing\", :]\n",
    "df = df.loc[df.sex != \"Other\", :]"
   ]
  },
  {
   "cell_type": "markdown",
   "id": "12",
   "metadata": {},
   "source": [
    "Create a \"century of birth\" variable, make it a string so that it is interpreted as a nominal variable."
   ]
  },
  {
   "cell_type": "code",
   "execution_count": null,
   "id": "13",
   "metadata": {},
   "outputs": [],
   "source": [
    "df.loc[:, \"era\"] = df.birth.round(-2)\n",
    "df = df.drop(\"birth\", axis=1)\n",
    "df.loc[:, \"era\"] = [\"%d\" % x for x in df.era]\n",
    "df.head()"
   ]
  },
  {
   "cell_type": "markdown",
   "id": "14",
   "metadata": {},
   "source": [
    "We won't need the names anymore so we create a copy of the data that omits them."
   ]
  },
  {
   "cell_type": "code",
   "execution_count": null,
   "id": "15",
   "metadata": {},
   "outputs": [],
   "source": [
    "dx = df.drop(columns=[\"name\"])\n",
    "dx"
   ]
  },
  {
   "cell_type": "markdown",
   "id": "16",
   "metadata": {},
   "source": [
    "We will aim to understand notability by studying the contingency table below."
   ]
  },
  {
   "cell_type": "code",
   "execution_count": null,
   "id": "17",
   "metadata": {},
   "outputs": [],
   "source": [
    "tab = dx.groupby([\"sex\", \"reg\", \"occ\", \"era\"]).size().unstack().fillna(0)\n",
    "tab"
   ]
  },
  {
   "cell_type": "markdown",
   "id": "18",
   "metadata": {},
   "source": [
    "## Pearson residuals\n",
    "\n",
    "One way to gain some insight from a multi-way contingency table is to form Pearson residuals.  These residuals have the form (observed - expected) / SD(observed), where \"observed\" and \"expected\" are the observed and expected cell counts for each cell in the contingency table.  The \"expected\" cell count is obtained under an independence model, and the standard deviation SD(observed) is calculated using the Poisson approximation to the distribution of a Bernoulli trial with small success probability.  The Pearson residuals help identify where the observed counts are furthest (in statistical terms) from what would be expected if the attributes were distributed randomly over the observations. "
   ]
  },
  {
   "cell_type": "code",
   "execution_count": null,
   "id": "19",
   "metadata": {},
   "outputs": [],
   "source": [
    "long = tab.stack().reset_index().rename(columns={0: \"count\"})\n",
    "n = long[\"count\"].sum()\n",
    "vx = [\"sex\", \"reg\", \"occ\", \"era\"]\n",
    "vp = [\"%s_p\" % x for x in vx]\n",
    "for v in vx:\n",
    "    long[v+\"_p\"] = long.groupby(v)[\"count\"].transform(np.sum) / n\n",
    "long[\"exp\"] = n * long[vp].prod(1)\n",
    "long[\"chi2_resid\"] = (long[\"count\"] - long[\"exp\"]) / np.sqrt(long[\"exp\"])\n",
    "long = long.sort_values(by=\"chi2_resid\")\n",
    "long.sort_values(\"chi2_resid\")"
   ]
  },
  {
   "cell_type": "markdown",
   "id": "20",
   "metadata": {},
   "source": [
    "Below is a plot of the order statistics of the chi square residuals. "
   ]
  },
  {
   "cell_type": "code",
   "execution_count": null,
   "id": "21",
   "metadata": {},
   "outputs": [],
   "source": [
    "plt.grid(True)\n",
    "plt.xlabel(\"Rank\")\n",
    "plt.ylabel(\"Chi squared residual\")\n",
    "plt.plot(np.sort(long[\"chi2_resid\"]))"
   ]
  },
  {
   "cell_type": "markdown",
   "id": "22",
   "metadata": {},
   "source": [
    "## Multiple Correspondence Analysis\n",
    "\n",
    "Multiple Correspondence Analysis (MCA) is a type of factor analysis for categorical data. A common use of MCA is to produce biplots that can be used to visualize the joint distribution of several categorical variables. Here we use MCA to understand the relationships among the contingency table of characteristics of the subjects in the BHHT data.\n",
    "\n",
    "Below we fit factors to the data using multiple correspondence analysis (MCA)."
   ]
  },
  {
   "cell_type": "code",
   "execution_count": null,
   "id": "23",
   "metadata": {},
   "outputs": [],
   "source": [
    "mca = prince.MCA(n_components=4)\n",
    "mca = mca.fit(dx)"
   ]
  },
  {
   "cell_type": "markdown",
   "id": "24",
   "metadata": {},
   "source": [
    "We can make an interactive plot of the column coordinates (there are too many objects to plot):"
   ]
  },
  {
   "cell_type": "code",
   "execution_count": null,
   "id": "25",
   "metadata": {},
   "outputs": [],
   "source": [
    "mca.plot(dx, show_row_markers=False, show_row_labels=False)"
   ]
  },
  {
   "cell_type": "markdown",
   "id": "26",
   "metadata": {},
   "source": [
    "We can make a more informative static version of this plot by coloring the levels of the same parent variable in a common color, and by connecting the points that correspond to ordered variables."
   ]
  },
  {
   "cell_type": "code",
   "execution_count": null,
   "id": "27",
   "metadata": {},
   "outputs": [],
   "source": [
    "cols = {\"occ\": \"orange\", \"sex\": \"purple\", \"reg\": \"lime\", \"era\": \"navy\"}\n",
    "\n",
    "def mca_plot(mca, df, cols, jx, jy):\n",
    "    cc = mca.column_coordinates(df)\n",
    "    xmin, xmax = cc.iloc[:, jx].min(), cc.iloc[:, jx].max()\n",
    "    d = xmax - xmin\n",
    "    xmin -= 0.1*d\n",
    "    xmax += 0.1*d\n",
    "    ymin, ymax = cc.iloc[:, jy].min(), cc.iloc[:, jy].max()\n",
    "    d = ymax - ymin\n",
    "    ymin -= 0.1*d\n",
    "    ymax += 0.1*d\n",
    "\n",
    "    plt.clf()\n",
    "    plt.grid(True)\n",
    "    for k in cols.keys():\n",
    "        cx = cc[cc.index.str.startswith(k)]\n",
    "        if k == \"era\":\n",
    "            plt.plot(cx.iloc[:, jx], cx.iloc[:, jy], \"-\", color=cols[k])\n",
    "        for i in range(cx.shape[0]):\n",
    "            plt.text(cx.iloc[i, jx], cx.iloc[i, jy], cx.index[i], color=cols[k],\n",
    "                     ha=\"center\", va=\"center\")\n",
    "    plt.xlabel(\"Component %d\" % (jx + 1))\n",
    "    plt.ylabel(\"Component %d\" % (jy + 1))\n",
    "    plt.xlim(xmin, xmax)\n",
    "    plt.ylim(ymin, ymax)"
   ]
  },
  {
   "cell_type": "markdown",
   "id": "28",
   "metadata": {},
   "source": [
    "The most informative projection of the columns is spanned by the first two factors, as plotted below:"
   ]
  },
  {
   "cell_type": "code",
   "execution_count": null,
   "id": "29",
   "metadata": {},
   "outputs": [],
   "source": [
    "mca_plot(mca, dx, cols, 0, 1)"
   ]
  },
  {
   "cell_type": "markdown",
   "id": "30",
   "metadata": {},
   "source": [
    "Recall that the angle between two vectors corresponding to categories of different variables encodes the correlation between the indicators for those variable categories.  This is illustrated by a few examples below."
   ]
  },
  {
   "cell_type": "code",
   "execution_count": null,
   "id": "31",
   "metadata": {},
   "outputs": [],
   "source": [
    "np.corrcoef(dx.occ==\"Culture\", dx.sex==\"Female\")"
   ]
  },
  {
   "cell_type": "code",
   "execution_count": null,
   "id": "32",
   "metadata": {},
   "outputs": [],
   "source": [
    "np.corrcoef(dx.occ==\"Leadership\", dx.sex==\"Female\")"
   ]
  },
  {
   "cell_type": "code",
   "execution_count": null,
   "id": "33",
   "metadata": {},
   "outputs": [],
   "source": [
    "np.corrcoef(dx.reg==\"Oceania\", dx.occ==\"Sports/Games\")"
   ]
  },
  {
   "cell_type": "code",
   "execution_count": null,
   "id": "34",
   "metadata": {},
   "outputs": [],
   "source": [
    "np.corrcoef(dx.occ==\"Leadership\", dx.era==\"1800\")"
   ]
  },
  {
   "cell_type": "markdown",
   "id": "35",
   "metadata": {},
   "source": [
    "Below we plot factors 2 and 3 (these are the third and fourth factors since Python counts from zero).  These capture an independent projection of the data from factors 0 and 1."
   ]
  },
  {
   "cell_type": "code",
   "execution_count": null,
   "id": "36",
   "metadata": {},
   "outputs": [],
   "source": [
    "mca_plot(mca, dx, cols, 2, 3)"
   ]
  },
  {
   "cell_type": "markdown",
   "id": "37",
   "metadata": {},
   "source": [
    "In an MCA plot, information about the variables is encoded both in the angles between variable scores, and in the magnitudes of the variable scores.  Variables that are uncorrelated with all other variables have very short magnitudes.  To demonstrate this, we create a variable that is independent of the others and include it in the MCA."
   ]
  },
  {
   "cell_type": "code",
   "execution_count": null,
   "id": "38",
   "metadata": {},
   "outputs": [],
   "source": [
    "dx1 = dx.copy()\n",
    "dx1[\"fake\"] = np.random.choice([0, 1], dx.shape[0])\n",
    "cols1 = cols.copy()\n",
    "cols1[\"fake\"] = \"red\"\n",
    "\n",
    "mca1 = prince.MCA(n_components=4)\n",
    "mca1 = mca1.fit(dx1)\n",
    "mca1.transform(dx1)\n",
    "mca_plot(mca1, dx1, cols1, 0, 1)"
   ]
  }
 ],
 "metadata": {
  "jupytext": {
   "cell_metadata_filter": "-all",
   "main_language": "python",
   "notebook_metadata_filter": "-all"
  },
  "kernelspec": {
   "display_name": "Python 3 (ipykernel)",
   "language": "python",
   "name": "python3"
  },
  "language_info": {
   "codemirror_mode": {
    "name": "ipython",
    "version": 3
   },
   "file_extension": ".py",
   "mimetype": "text/x-python",
   "name": "python",
   "nbconvert_exporter": "python",
   "pygments_lexer": "ipython3",
   "version": "3.10.9"
  }
 },
 "nbformat": 4,
 "nbformat_minor": 5
}
