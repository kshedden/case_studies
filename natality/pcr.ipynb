{
 "cells": [
  {
   "cell_type": "markdown",
   "id": "0",
   "metadata": {},
   "source": [
    "# Demographic predictors of birth counts in US counties from 2011-2020\n",
    "\n",
    "In this notebook we will explore predictors of natality, defined here as birth count per county/year, for a subset of US counties between 2011 and 2020.  "
   ]
  },
  {
   "cell_type": "code",
   "execution_count": null,
   "id": "1",
   "metadata": {},
   "outputs": [],
   "source": [
    "import pandas as pd\n",
    "import numpy as np\n",
    "from prep import births, demog, pop, na, age_groups, rucc, adi\n",
    "import statsmodels.api as sm\n",
    "import matplotlib.pyplot as plt\n",
    "import seaborn as sns\n",
    "from statsmodels.nonparametric.smoothers_lowess import lowess"
   ]
  },
  {
   "cell_type": "markdown",
   "id": "2",
   "metadata": {},
   "source": [
    "View some of the raw data:"
   ]
  },
  {
   "cell_type": "code",
   "execution_count": null,
   "id": "3",
   "metadata": {},
   "outputs": [],
   "source": [
    "births.head()"
   ]
  },
  {
   "cell_type": "code",
   "execution_count": null,
   "id": "4",
   "metadata": {},
   "outputs": [],
   "source": [
    "pop.head()"
   ]
  },
  {
   "cell_type": "code",
   "execution_count": null,
   "id": "5",
   "metadata": {},
   "outputs": [],
   "source": [
    "adi.head()"
   ]
  },
  {
   "cell_type": "code",
   "execution_count": null,
   "id": "6",
   "metadata": {},
   "outputs": [],
   "source": [
    "rucc.head()"
   ]
  },
  {
   "cell_type": "code",
   "execution_count": null,
   "id": "7",
   "metadata": {},
   "outputs": [],
   "source": [
    "demog.head()"
   ]
  },
  {
   "cell_type": "markdown",
   "id": "8",
   "metadata": {},
   "source": [
    "Create a dataframe for modeling.  Merge the birth data with population and RUCC data."
   ]
  },
  {
   "cell_type": "code",
   "execution_count": null,
   "id": "9",
   "metadata": {},
   "outputs": [],
   "source": [
    "da = pd.merge(births, pop, on=\"FIPS\", how=\"left\")\n",
    "da = pd.merge(da, rucc, on=\"FIPS\", how=\"left\")\n",
    "da = pd.merge(da, adi, left_on=\"FIPS\", right_on=\"FIPS5\", how=\"left\")"
   ]
  },
  {
   "cell_type": "markdown",
   "id": "10",
   "metadata": {},
   "source": [
    "Population will be used as an offset below, so we log it here."
   ]
  },
  {
   "cell_type": "code",
   "execution_count": null,
   "id": "11",
   "metadata": {},
   "outputs": [],
   "source": [
    "da[\"logPop\"] = np.log(da[\"Population\"])\n",
    "da[\"logADINatRank\"] = np.log(1 + da[\"ADI_NATRANK\"])\n",
    "da = da.dropna()"
   ]
  },
  {
   "cell_type": "markdown",
   "id": "12",
   "metadata": {},
   "source": [
    "It's not always essential to center quantitative variables, but it makes it easier to interpret their effects, especially when interactions are used."
   ]
  },
  {
   "cell_type": "code",
   "execution_count": null,
   "id": "13",
   "metadata": {},
   "outputs": [],
   "source": [
    "print(da[\"year\"].mean())\n",
    "da[\"yearc\"] = da[\"year\"] - da[\"year\"].mean()\n",
    "da[\"logPopc\"] = da[\"logPop\"] - da[\"logPop\"].mean()\n",
    "da[\"RUCC_2013c\"] = da[\"RUCC_2013\"] - da[\"RUCC_2013\"].mean()\n",
    "da[\"logADINatRank\"] = da[\"logADINatRank\"] - da[\"logADINatRank\"].mean()\n",
    "da[\"logADINatRankZ\"] = da[\"logADINatRank\"] / da[\"logADINatRank\"].std()"
   ]
  },
  {
   "cell_type": "markdown",
   "id": "14",
   "metadata": {},
   "source": [
    "One point that we will focus on below is the extent to which urbanicity (RUCC) and/or adversity (ADI) predict natality (after controlling for population size).  RUCC and ADI are related, but this does not mean that we cannot attempt to disentangle their roles in the regression.  The plot below giv"
   ]
  },
  {
   "cell_type": "code",
   "execution_count": null,
   "id": "15",
   "metadata": {},
   "outputs": [],
   "source": [
    "px = da[[\"RUCC_2013c\", \"logADINatRankZ\"]]\n",
    "lm = lowess(px[\"logADINatRankZ\"], px[\"RUCC_2013c\"])\n",
    "plt.plot(px[\"RUCC_2013c\"], px[\"logADINatRankZ\"], \"o\")\n",
    "plt.xlabel(\"RUCC\")\n",
    "plt.ylabel(\"ADI (Z-score)\")\n",
    "plt.plot(lm[:, 0], lm[:, 1])\n",
    "plt.grid(True)"
   ]
  },
  {
   "cell_type": "markdown",
   "id": "16",
   "metadata": {},
   "source": [
    "## Scaling by population size and offsets\n",
    "\n",
    "It is natural to expect a 1-1 scaling between total population size and the number of births.  That is, all else equal we would expect two counties that differ by a factor of two in population size to differ by a factor of two in natality.  To assess this, we can make a scatterplot of the birth count versus the population size in log-space.  Under the expected 1-1 scaling, the slope of this line should be close to 1."
   ]
  },
  {
   "cell_type": "code",
   "execution_count": null,
   "id": "17",
   "metadata": {},
   "outputs": [],
   "source": [
    "da = da.sort_values([\"FIPS\", \"year\"])\n",
    "da.head()"
   ]
  },
  {
   "cell_type": "code",
   "execution_count": null,
   "id": "18",
   "metadata": {},
   "outputs": [],
   "source": [
    "da[\"logBirths\"] = np.log(da[\"Births\"])\n",
    "sns.scatterplot(da, x=\"logPop\", y=\"logBirths\", alpha=0.3)\n",
    "plt.grid(True)\n",
    "b = np.cov(da[\"logPop\"], da[\"logBirths\"])[0, 1] / np.var(da[\"logPop\"])\n",
    "b"
   ]
  },
  {
   "cell_type": "markdown",
   "id": "19",
   "metadata": {},
   "source": [
    "## Assessing the variance structure and mean/variance relationships\n",
    "\n",
    "Since we have 10 years of data for each county, we can treat these as replicates to estimate the mean and variance within each county (over the 10 years covered by the dataset).  This is one way for us to assess the mean/variance relationship."
   ]
  },
  {
   "cell_type": "code",
   "execution_count": null,
   "id": "20",
   "metadata": {},
   "outputs": [],
   "source": [
    "mv = births.groupby(\"FIPS\")[\"Births\"].agg([np.mean, np.var])\n",
    "lmv = np.log(mv)\n",
    "mv"
   ]
  },
  {
   "cell_type": "markdown",
   "id": "21",
   "metadata": {},
   "source": [
    "Regress log variance on log mean"
   ]
  },
  {
   "cell_type": "code",
   "execution_count": null,
   "id": "22",
   "metadata": {},
   "outputs": [],
   "source": [
    "mr = sm.OLS.from_formula(\"var ~ mean\", lmv).fit()\n",
    "print(mr.summary())"
   ]
  },
  {
   "cell_type": "markdown",
   "id": "23",
   "metadata": {},
   "source": [
    "Plot the log variance against the log mean.  If variance = phi * mean, then log(variance) = log(phi) + log(mean), i.e. the slope is 1 and the intercept is log(phi).  If variance = phi * mean^a then log(variance) = log(phi) + a * log(mean)."
   ]
  },
  {
   "cell_type": "code",
   "execution_count": null,
   "id": "24",
   "metadata": {},
   "outputs": [],
   "source": [
    "plt.clf()\n",
    "plt.grid(True)\n",
    "plt.plot(lmv[\"mean\"], lmv[\"var\"], \"o\", alpha=0.2, rasterized=True)\n",
    "plt.axline((8, 8), slope=1, color=\"grey\")\n",
    "plt.axline((lmv[\"mean\"].mean(0), lmv[\"var\"].mean(0)), slope=1, color=\"purple\")\n",
    "plt.axline((8, mr.params[0]+8*mr.params[1]), slope=mr.params[1], color=\"orange\")\n",
    "plt.xlabel(\"Log mean\", size=16)\n",
    "plt.ylabel(\"Log variance\", size=16)"
   ]
  },
  {
   "cell_type": "markdown",
   "id": "25",
   "metadata": {},
   "source": [
    "## Urbanicity and time trends as predictors of natality\n",
    "\n",
    "Below we fit a GLM, which is not appropriate since we have repeated measures on counties.  Due to the repeated measures, the uncertainty assessments (standard errors, p-values, confidence intervals, score tests) will be invalid, but the point estimates of the coefficients are still meaningful."
   ]
  },
  {
   "cell_type": "code",
   "execution_count": null,
   "id": "26",
   "metadata": {},
   "outputs": [],
   "source": [
    "fml = \"Births ~ logPop + RUCC_2013 + logADINatRankZ\"\n",
    "m0 = sm.GLM.from_formula(fml, family=sm.families.Poisson(), data=da)\n",
    "r0 = m0.fit() # Poisson\n",
    "r0x = m0.fit(scale=\"X2\") # Quasi-Poisson\n",
    "r0x.summary()"
   ]
  },
  {
   "cell_type": "markdown",
   "id": "27",
   "metadata": {},
   "source": [
    "Using GEE accounts for the correlated data.  After accounting for clustering by county, ADI remains significant but RUCC looses significance."
   ]
  },
  {
   "cell_type": "code",
   "execution_count": null,
   "id": "28",
   "metadata": {},
   "outputs": [],
   "source": [
    "m1 = sm.GEE.from_formula(fml, groups=\"FIPS\", family=sm.families.Poisson(), data=da)\n",
    "r1 = m1.fit() # Poisson and quasi-Poisson are the same for GEE\n",
    "r1x = m1.fit(scale=\"X2\")\n",
    "r1x.summary()"
   ]
  },
  {
   "cell_type": "markdown",
   "id": "29",
   "metadata": {},
   "source": [
    "Use log population as an offset instead of a covariate"
   ]
  },
  {
   "cell_type": "code",
   "execution_count": null,
   "id": "30",
   "metadata": {},
   "outputs": [],
   "source": [
    "m2 = sm.GEE.from_formula(\"Births ~ RUCC_2013 + logADINatRankZ\", groups=\"FIPS\", offset=\"logPop\",\n",
    "                         family=sm.families.Poisson(), data=da)\n",
    "r2 = m2.fit(scale=\"X2\")\n",
    "r2.summary()"
   ]
  },
  {
   "cell_type": "markdown",
   "id": "31",
   "metadata": {},
   "source": [
    "Below we construct a diagnostic plot for the variance structure that does not require there to be replicates  (in general there will be no replicates, and even here it is unclear whether we can treat the 10 years of data within each county as replicates).  If the variance structure is correctly specified, then the absolute Pearson residuals should have constant conditional mean with respect to the fitted values."
   ]
  },
  {
   "cell_type": "code",
   "execution_count": null,
   "id": "32",
   "metadata": {},
   "outputs": [],
   "source": [
    "plt.clf()\n",
    "plt.grid(True)\n",
    "lfv = np.log(r2.fittedvalues).values\n",
    "apr = np.abs(r2.resid_pearson)\n",
    "ii = np.argsort(lfv)\n",
    "lfv = lfv[ii]\n",
    "apr = apr[ii]\n",
    "ff = sm.nonparametric.lowess(apr, lfv)\n",
    "plt.plot(lfv, apr, \"o\", alpha=0.2, rasterized=True)\n",
    "plt.plot(ff[:, 0], ff[:, 1], \"-\", color=\"orange\")\n",
    "plt.title(\"Poisson mean/variance model\")\n",
    "plt.xlabel(\"Log predicted mean\", size=16)\n",
    "plt.ylabel(\"Absolute Pearson residual\", size=16)"
   ]
  },
  {
   "cell_type": "markdown",
   "id": "33",
   "metadata": {},
   "source": [
    "The Poisson variance model did not fit well based on the diagnostic plot above, so we next consider a Gamma family to better match the mean/variance relationship."
   ]
  },
  {
   "cell_type": "code",
   "execution_count": null,
   "id": "34",
   "metadata": {},
   "outputs": [],
   "source": [
    "m3 = sm.GEE.from_formula(\"Births ~ RUCC_2013\", groups=\"FIPS\", offset=\"logPop\",\n",
    "                         family=sm.families.Gamma(link=sm.families.links.log()), data=da)\n",
    "r3 = m3.fit(scale=\"X2\")\n",
    "r3.summary()"
   ]
  },
  {
   "cell_type": "markdown",
   "id": "35",
   "metadata": {},
   "source": [
    "Diagnostic plot for mean/variance relationship with gamma model."
   ]
  },
  {
   "cell_type": "code",
   "execution_count": null,
   "id": "36",
   "metadata": {},
   "outputs": [],
   "source": [
    "plt.clf()\n",
    "plt.grid(True)\n",
    "lfv = np.log(r3.fittedvalues).values\n",
    "apr = np.abs(r3.resid_pearson)\n",
    "ii = np.argsort(lfv)\n",
    "lfv = lfv[ii]\n",
    "apr = apr[ii]\n",
    "ff = sm.nonparametric.lowess(apr, lfv)\n",
    "plt.plot(lfv, apr, \"o\", alpha=0.2, rasterized=True)\n",
    "plt.plot(ff[:, 0], ff[:, 1], \"-\", color=\"orange\")\n",
    "plt.title(\"Gamma mean/variance model\")\n",
    "plt.xlabel(\"Log predicted mean\", size=16)\n",
    "plt.ylabel(\"Absolute Pearson residual\", size=16)"
   ]
  },
  {
   "cell_type": "markdown",
   "id": "37",
   "metadata": {},
   "source": [
    "Now we proceed to fit and interpret some regression models.  Here we use exchangeable correlation structure in the GEE.  Since RUCC and ADI are constant within groups, the parameter estimates and standard errors are the same as with the independence model.  The first model only considers the roles of urbanicity (RUCC) and deprivation (ADI)."
   ]
  },
  {
   "cell_type": "code",
   "execution_count": null,
   "id": "38",
   "metadata": {},
   "outputs": [],
   "source": [
    "m4 = sm.GEE.from_formula(\"Births ~ RUCC_2013 + logADINatRankZ\", groups=\"FIPS\", offset=\"logPop\",\n",
    "                         cov_struct=sm.cov_struct.Exchangeable(),\n",
    "                         family=sm.families.Gamma(link=sm.families.links.log()), data=da)\n",
    "r4 = m4.fit(scale=\"X2\")\n",
    "r4.summary()"
   ]
  },
  {
   "cell_type": "markdown",
   "id": "39",
   "metadata": {},
   "source": [
    "Now we consider the role of urbanicity as well as the potential for a linear time trend."
   ]
  },
  {
   "cell_type": "code",
   "execution_count": null,
   "id": "40",
   "metadata": {},
   "outputs": [],
   "source": [
    "m5 = sm.GEE.from_formula(\"Births ~ RUCC_2013 + logADINatRankZ + year\", groups=\"FIPS\", offset=\"logPop\",\n",
    "                         cov_struct=sm.cov_struct.Exchangeable(),\n",
    "                         family=sm.families.Gamma(link=sm.families.links.log()), data=da)\n",
    "r5 = m5.fit(scale=\"X2\")\n",
    "r5.summary()"
   ]
  },
  {
   "cell_type": "markdown",
   "id": "41",
   "metadata": {},
   "source": [
    "Now we consider the possibility that the linear time trend is different based on the level of deprivation."
   ]
  },
  {
   "cell_type": "code",
   "execution_count": null,
   "id": "42",
   "metadata": {},
   "outputs": [],
   "source": [
    "m6 = sm.GEE.from_formula(\"Births ~ (logADINatRankZ + RUCC_2013c) * yearc\", groups=\"FIPS\", offset=\"logPop\",\n",
    "                         cov_struct=sm.cov_struct.Exchangeable(),\n",
    "                         family=sm.families.Gamma(link=sm.families.links.log()), data=da)\n",
    "r6 = m6.fit(scale=\"X2\")\n",
    "r6.summary()"
   ]
  },
  {
   "cell_type": "markdown",
   "id": "43",
   "metadata": {},
   "source": [
    "Score tests comparing pairs of nested models:"
   ]
  },
  {
   "cell_type": "code",
   "execution_count": null,
   "id": "44",
   "metadata": {},
   "outputs": [],
   "source": [
    "print(r5.model.compare_score_test(r4))\n",
    "print(r6.model.compare_score_test(r5))"
   ]
  },
  {
   "cell_type": "markdown",
   "id": "45",
   "metadata": {},
   "source": [
    "## Principal Components Regression\n",
    "\n",
    "We begin by double centering the demographic data."
   ]
  },
  {
   "cell_type": "code",
   "execution_count": null,
   "id": "46",
   "metadata": {
    "lines_to_next_cell": 1
   },
   "outputs": [],
   "source": [
    "demogx = np.asarray(demog)\n",
    "demogx = np.log(1 + demogx)\n",
    "demogx -= demogx.mean()\n",
    "demogx -= demogx.mean(0)\n",
    "demogx -= demogx.mean(1)[:, None]\n",
    "demog"
   ]
  },
  {
   "cell_type": "markdown",
   "id": "47",
   "metadata": {},
   "source": [
    "Get factors (principal components) from the demographic data."
   ]
  },
  {
   "cell_type": "code",
   "execution_count": null,
   "id": "48",
   "metadata": {},
   "outputs": [],
   "source": [
    "u, s, vt = np.linalg.svd(demogx, 0)\n",
    "v = vt.T"
   ]
  },
  {
   "cell_type": "markdown",
   "id": "49",
   "metadata": {},
   "source": [
    "Convert the coefficients back to the original coordinates"
   ]
  },
  {
   "cell_type": "code",
   "execution_count": null,
   "id": "50",
   "metadata": {
    "lines_to_next_cell": 1
   },
   "outputs": [],
   "source": [
    "def convert_coef(c, npc):\n",
    "    return np.dot(v[:, 0:npc], c/s[0:npc])"
   ]
  },
  {
   "cell_type": "markdown",
   "id": "51",
   "metadata": {},
   "source": [
    "Put the demographic factors into a dataframe"
   ]
  },
  {
   "cell_type": "code",
   "execution_count": null,
   "id": "52",
   "metadata": {},
   "outputs": [],
   "source": [
    "m = {(\"pc%02d\" % k) : u[:, k] for k in range(100)}\n",
    "m[\"FIPS\"] = demog.index\n",
    "demog_f = pd.DataFrame(m)"
   ]
  },
  {
   "cell_type": "markdown",
   "id": "53",
   "metadata": {},
   "source": [
    "Merge demographic information into the births data"
   ]
  },
  {
   "cell_type": "code",
   "execution_count": null,
   "id": "54",
   "metadata": {},
   "outputs": [],
   "source": [
    "da = pd.merge(da, demog_f, on=\"FIPS\", how=\"left\")"
   ]
  },
  {
   "cell_type": "markdown",
   "id": "55",
   "metadata": {},
   "source": [
    "Include this number of factors in subsequent models"
   ]
  },
  {
   "cell_type": "code",
   "execution_count": null,
   "id": "56",
   "metadata": {},
   "outputs": [],
   "source": [
    "npc = 10"
   ]
  },
  {
   "cell_type": "markdown",
   "id": "57",
   "metadata": {},
   "source": [
    "A GLM, not appropriate since we have repeated measures on counties"
   ]
  },
  {
   "cell_type": "code",
   "execution_count": null,
   "id": "58",
   "metadata": {},
   "outputs": [],
   "source": [
    "fml = \"Births ~ (logPopc + RUCC_2013c + logADINatRankZ) * yearc + \" + \" + \".join([\"pc%02d\" % j for j in range(npc)])\n",
    "m7 = sm.GLM.from_formula(fml, family=sm.families.Poisson(), data=da)\n",
    "r7 = m7.fit(scale=\"X2\")\n",
    "r7.summary()"
   ]
  },
  {
   "cell_type": "markdown",
   "id": "59",
   "metadata": {},
   "source": [
    "GEE accounts for the correlated data"
   ]
  },
  {
   "cell_type": "code",
   "execution_count": null,
   "id": "60",
   "metadata": {},
   "outputs": [],
   "source": [
    "m8 = sm.GEE.from_formula(fml, groups=\"FIPS\",\n",
    "         family=sm.families.Gamma(link=sm.families.links.log()), data=da)\n",
    "r8 = m8.fit(scale=\"X2\")\n",
    "r8.summary()"
   ]
  },
  {
   "cell_type": "markdown",
   "id": "61",
   "metadata": {},
   "source": [
    "Use log population as an offset instead of a covariate"
   ]
  },
  {
   "cell_type": "code",
   "execution_count": null,
   "id": "62",
   "metadata": {
    "lines_to_next_cell": 1
   },
   "outputs": [],
   "source": [
    "fml = \"Births ~ \" + \" + \".join([\"pc%02d\" % j for j in range(npc)])\n",
    "m9 = sm.GEE.from_formula(fml, groups=\"FIPS\", offset=\"logPop\",\n",
    "         family=sm.families.Gamma(link=sm.families.links.log()), data=da)\n",
    "r9 = m9.fit(scale=\"X2\")\n",
    "r9.summary()"
   ]
  },
  {
   "cell_type": "markdown",
   "id": "63",
   "metadata": {},
   "source": [
    "Restructure the coefficients so that the age bands are in the columns."
   ]
  },
  {
   "cell_type": "code",
   "execution_count": null,
   "id": "64",
   "metadata": {
    "lines_to_next_cell": 1
   },
   "outputs": [],
   "source": [
    "def restructure(c):\n",
    "    ii = pd.MultiIndex.from_tuples(na)\n",
    "    c = pd.Series(c, index=ii)\n",
    "    c = c.unstack()\n",
    "    return c"
   ]
  },
  {
   "cell_type": "markdown",
   "id": "65",
   "metadata": {},
   "source": [
    "This function fits a Gamma GLM to the data using 'npc' principal components as explanatory variables (using GEE to account for non-independence), then converts the coefficients back to the original variables."
   ]
  },
  {
   "cell_type": "code",
   "execution_count": null,
   "id": "66",
   "metadata": {
    "lines_to_next_cell": 1
   },
   "outputs": [],
   "source": [
    "def fitmodel(npc):\n",
    "    # A GEE using log population as an offset\n",
    "    fml = \"Births ~ 1\" if npc == 0 else \"Births ~ RUCC_2013c*yearc + \" + \" + \".join([\"pc%02d\" % j for j in range(npc)])\n",
    "    m = sm.GEE.from_formula(fml, groups=\"FIPS\", family=sm.families.Gamma(link=sm.families.links.log()),\n",
    "                            offset=da[\"logPop\"], data=da)\n",
    "    r = m.fit(scale=\"X2\")\n",
    "\n",
    "    # Convert the coefficients back to the original coordinates\n",
    "    c = convert_coef(r.params[4:], npc)\n",
    "\n",
    "    # Restructure the coefficients so that the age bands are\n",
    "    # in the columns.\n",
    "    c = restructure(c)\n",
    "\n",
    "    return c, m, r"
   ]
  },
  {
   "cell_type": "markdown",
   "id": "67",
   "metadata": {},
   "source": [
    "Plot styling information"
   ]
  },
  {
   "cell_type": "code",
   "execution_count": null,
   "id": "68",
   "metadata": {},
   "outputs": [],
   "source": [
    "colors = {\"A\": \"purple\", \"B\": \"orange\", \"N\": \"lime\", \"W\": \"red\"}\n",
    "lt = {\"F\": \"-\", \"M\": \":\"}\n",
    "sym = {\"H\": \"s\", \"N\": \"o\"}\n",
    "ages = range(0, 20)"
   ]
  },
  {
   "cell_type": "markdown",
   "id": "69",
   "metadata": {},
   "source": [
    "Fit models with these numbers of PCs."
   ]
  },
  {
   "cell_type": "code",
   "execution_count": null,
   "id": "70",
   "metadata": {},
   "outputs": [],
   "source": [
    "pcs = [0, 5, 10, 20, 30, 40, 50, 60, 70, 80, 90, 100]"
   ]
  },
  {
   "cell_type": "code",
   "execution_count": null,
   "id": "71",
   "metadata": {},
   "outputs": [],
   "source": [
    "models = []\n",
    "for npc in pcs:\n",
    "\n",
    "    c, m, r = fitmodel(npc)\n",
    "    models.append((m, r))\n",
    "\n",
    "    plt.clf()\n",
    "    plt.figure(figsize=(9, 7))\n",
    "    ax = plt.axes([0.14, 0.18, 0.7, 0.75])\n",
    "    ax.grid(True)\n",
    "    for i in range(c.shape[0]):\n",
    "        a = c.index[i]\n",
    "        la = \"/\".join(a)\n",
    "        ax.plot(ages, c.iloc[i, :], lt[a[2]] + sym[a[1]], color=colors[a[0]],\n",
    "                label=la)\n",
    "\n",
    "    # Setup the horizontal axis labels\n",
    "    ax.set_xticks(ages)\n",
    "    ax.set_xticklabels(age_groups)\n",
    "    for x in plt.gca().get_xticklabels():\n",
    "        x.set_rotation(-90)\n",
    "\n",
    "    ha, lb = plt.gca().get_legend_handles_labels()\n",
    "    leg = plt.figlegend(ha, lb, loc=\"center right\")\n",
    "    leg.draw_frame(False)\n",
    "\n",
    "    plt.xlabel(\"Age group\", size=17)\n",
    "    plt.ylabel(\"Coefficient\", size=17)\n",
    "    plt.title(\"%d factors\" % npc)\n",
    "    plt.show()"
   ]
  },
  {
   "cell_type": "markdown",
   "id": "72",
   "metadata": {},
   "source": [
    "Use score tests to get a sense of the number of PC factors to include; also consider the PVEs calculated above."
   ]
  },
  {
   "cell_type": "code",
   "execution_count": null,
   "id": "73",
   "metadata": {},
   "outputs": [],
   "source": [
    "for k in range(10):\n",
    "    st = models[k+1][0].compare_score_test(models[k][1])\n",
    "    print(\"%d versus %d: p=%f\" % (pcs[k+1], pcs[k], st[\"p-value\"]))"
   ]
  },
  {
   "cell_type": "code",
   "execution_count": null,
   "id": "74",
   "metadata": {},
   "outputs": [],
   "source": [
    "# https://www.jstor.org/stable/45118439\n",
    "\n",
    "def dv(a, b, scale):\n",
    "    return ((b-a)**2).sum()\n",
    "    vpa = 2 * scale * a\n",
    "    vpb = 2 * scale * b\n",
    "    u = np.log(vpb + np.sqrt(1 + vpb**2)) - np.log(vpa + np.sqrt(1 + vpa**2))\n",
    "    u += vpb * np.sqrt(1 + vpb**2) - vpa * np.sqrt(1 + vpa**2)\n",
    "    return (u**2).sum()\n",
    "\n",
    "for k in range(10):\n",
    "    res = models[k][1]\n",
    "    scale = res.scale\n",
    "    n = len(res.model.endog)\n",
    "    icept = res.params[0] + da[\"logPop\"]\n",
    "    numer = dv(res.model.endog, res.fittedvalues, scale)\n",
    "    denom = dv(res.model.endog, np.exp(icept), scale)\n",
    "    #assert(np.all(denom >= numer))\n",
    "    r2 = 1 - numer / denom\n",
    "    #print(denom)\n",
    "    print(\"%15.1f %15.1f %15.1f\" % (numer, denom, r2))\n",
    "    #print(res.params[0])\n",
    "  \n",
    "#print(res.summary())\n",
    "#res = models[5][1]\n",
    "#icept = res.params[0] + da[\"logPop\"]\n",
    "#plt.plot(res.model.endog, res.fittedvalues, \"o\", alpha=0.2)\n",
    "#plt.plot(res.model.endog, np.exp(icept), \"o\", alpha=0.2)\n",
    "#plt.grid(True)"
   ]
  }
 ],
 "metadata": {
  "jupytext": {
   "cell_metadata_filter": "-all",
   "main_language": "python",
   "notebook_metadata_filter": "-all"
  },
  "kernelspec": {
   "display_name": "Python 3 (ipykernel)",
   "language": "python",
   "name": "python3"
  },
  "language_info": {
   "codemirror_mode": {
    "name": "ipython",
    "version": 3
   },
   "file_extension": ".py",
   "mimetype": "text/x-python",
   "name": "python",
   "nbconvert_exporter": "python",
   "pygments_lexer": "ipython3",
   "version": "3.10.9"
  }
 },
 "nbformat": 4,
 "nbformat_minor": 5
}
