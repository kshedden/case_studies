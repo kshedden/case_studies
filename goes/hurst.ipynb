{
 "cells": [
  {
   "cell_type": "markdown",
   "id": "0",
   "metadata": {},
   "source": [
    "# Long range dependence in the GOES data\n",
    "\n",
    "A time series exhibits long range dependence if its autocorrelation function is not absolutely summable.  Any time series that we observe in practice is finite and therefore the sample autocorrelation function will always be absolutely summable.  Therefore, we need a more indirect way to assess whether a time series has long range dependence.  There are many approaches for doing this and it remains an area of active research.  Below we illustrate two methods for estimating the Hurst parameter using the GOES data."
   ]
  },
  {
   "cell_type": "code",
   "execution_count": null,
   "id": "1",
   "metadata": {},
   "outputs": [],
   "source": [
    "import numpy as np\n",
    "import matplotlib.pyplot as plt\n",
    "from read import *"
   ]
  },
  {
   "cell_type": "code",
   "execution_count": null,
   "id": "2",
   "metadata": {},
   "outputs": [],
   "source": [
    "df = get_goes(2017)"
   ]
  },
  {
   "cell_type": "markdown",
   "id": "3",
   "metadata": {
    "lines_to_next_cell": 1
   },
   "source": [
    "A basic fact from elementary statistics is that the variance of the sample mean of $m$ iid observations is $\\sigma^2/m$, where $\\sigma^2$ is the variance of one observation.  If instead of iid data we have short range dependent stationary data, the variance of the sample mean of $m$ consecutive values is $k/m$, for a constant $k$ that depends on the autocovariances.  However if the data are long-range dependent, the variance of $m$ consecutive values has the form $km^{2(H-1)}$.  This gives rise to a means for estimating $H$ -- we can partition the observed series into blocks of size $m$, take the sample mean of each block, then take the variance of these sample means.  We can then do this for various values of $m$ and view the log variance in relation to the logarithm of the block size $m$."
   ]
  },
  {
   "cell_type": "code",
   "execution_count": null,
   "id": "4",
   "metadata": {
    "lines_to_next_cell": 1
   },
   "outputs": [],
   "source": [
    "def hurst_vs(df, nn, d, fluxvar=\"Flux1\"):\n",
    "    \"\"\"Estimate the Hurst parameter using the variance scaling method.\"\"\"\n",
    "\n",
    "    r = np.zeros((len(nn), 2))\n",
    "    for j, m in enumerate(nn):\n",
    "\n",
    "        # Generate a matrix of non-overlapping blocks of\n",
    "        # size m.\n",
    "        _, flx = make_blocks(df, m, d, fluxvar=fluxvar)\n",
    "\n",
    "        # Calculate the sample mean of each block.\n",
    "        bm = flx.mean(1)\n",
    "\n",
    "        # Take the sample variance of the block means.\n",
    "        r[j, :] = [m, bm.var()]\n",
    "\n",
    "    # Estimate the Hurst exponent from the variances of\n",
    "    # the sample means.\n",
    "    rl = np.log(r)\n",
    "    cc = np.cov(rl[:, 0], rl[:, 1])\n",
    "    b = cc[0, 1] / cc[0, 0]\n",
    "\n",
    "    return 1 + b/2"
   ]
  },
  {
   "cell_type": "markdown",
   "id": "5",
   "metadata": {},
   "source": [
    "Another more recent method for estimating the Hurst parameter is the [triangle total areas method](https://www.sciencedirect.com/science/article/pii/S0378437121005616)."
   ]
  },
  {
   "cell_type": "code",
   "execution_count": null,
   "id": "6",
   "metadata": {},
   "outputs": [],
   "source": [
    "def hurst_tta(z, nn):\n",
    "    \"\"\"Estimate the Hurst parameter using the triangle total areas method.\"\"\"\n",
    "    z = z - np.median(z)\n",
    "    z = z / (np.quantile(z, 0.75) - np.quantile(z, 0.25))\n",
    "    z = np.cumsum(z)\n",
    "    def h(d):\n",
    "        u = np.mean(np.abs(z[2*d::d] - 2*z[d:-d:d] + z[0:-2*d:d])) * d / 2\n",
    "        return u\n",
    "    f = np.asarray([h(x) for x in nn])\n",
    "    cc = np.cov(np.log(f), np.log(nn))\n",
    "    return cc[0, 1] / cc[1, 1] - 1"
   ]
  },
  {
   "cell_type": "markdown",
   "id": "7",
   "metadata": {},
   "source": [
    "As a check, estimate the Hurst parameter for IID normal data (the true value of the Hurst parameter here is 1/2)."
   ]
  },
  {
   "cell_type": "code",
   "execution_count": null,
   "id": "8",
   "metadata": {},
   "outputs": [],
   "source": [
    "nn = [4, 8, 16, 32, 64, 128, 256, 512, 1024, 2048]\n",
    "dx = df.iloc[0:100000, :].copy()\n",
    "dx[\"Flux1\"] = np.random.normal(size=100000)\n",
    "h_vs = hurst_vs(dx, nn, 0)\n",
    "h_tta = hurst_tta(dx[\"Flux1\"].values, nn)\n",
    "print(\"Estimated Hurst parameter for IID standard normal data:\")\n",
    "print(h_vs)\n",
    "print(h_tta)"
   ]
  },
  {
   "cell_type": "markdown",
   "id": "9",
   "metadata": {},
   "source": [
    "As another check, simulate correlated data with short-range dependence (the true value of the Hurst parameter is stil 1/2)."
   ]
  },
  {
   "cell_type": "code",
   "execution_count": null,
   "id": "10",
   "metadata": {},
   "outputs": [],
   "source": [
    "fx = np.random.normal(size=dx.shape[0])\n",
    "r = 0.5\n",
    "for i in range(1, len(fx)):\n",
    "    fx[i] = r*fx[i-1] + np.sqrt(1 - r**2)*fx[i]\n",
    "dx[\"Flux1\"] = fx\n",
    "h_vs = hurst_vs(dx, nn, 0)\n",
    "h_tta = hurst_tta(dx[\"Flux1\"].values, nn)\n",
    "print(\"Estimated Hurst parameter for short-range dependent normal data:\")\n",
    "print(h_vs)\n",
    "print(h_tta)"
   ]
  },
  {
   "cell_type": "markdown",
   "id": "11",
   "metadata": {},
   "source": [
    "Now we can estimate the Hurst Parameter for the GOES data."
   ]
  },
  {
   "cell_type": "code",
   "execution_count": null,
   "id": "12",
   "metadata": {},
   "outputs": [],
   "source": [
    "for dx in np.array_split(df, 20):\n",
    "    h0 = hurst_vs(dx, nn, 0)\n",
    "    h1 = hurst_vs(dx, nn, 1)\n",
    "    h2 = hurst_tta(dx[\"Flux1\"].values, nn)\n",
    "    print([h0, h1, h2])"
   ]
  },
  {
   "cell_type": "markdown",
   "id": "13",
   "metadata": {},
   "source": [
    "Interestingly, the results are largely invariant to log transforming the data."
   ]
  },
  {
   "cell_type": "code",
   "execution_count": null,
   "id": "14",
   "metadata": {},
   "outputs": [],
   "source": [
    "df[\"Flux1_log\"] = np.log(df[\"Flux1\"] + 1e-5)\n",
    "for dx in np.array_split(df, 20):\n",
    "    h0 = hurst_vs(dx, nn, 0, fluxvar=\"Flux1_log\")\n",
    "    h1 = hurst_vs(dx, nn, 1, fluxvar=\"Flux1_log\")\n",
    "    h2 = hurst_tta(dx[\"Flux1_log\"].values, nn)\n",
    "    print([h0, h1, h2])"
   ]
  }
 ],
 "metadata": {
  "jupytext": {
   "cell_metadata_filter": "-all",
   "main_language": "python",
   "notebook_metadata_filter": "-all"
  },
  "kernelspec": {
   "display_name": "Python 3 (ipykernel)",
   "language": "python",
   "name": "python3"
  },
  "language_info": {
   "codemirror_mode": {
    "name": "ipython",
    "version": 3
   },
   "file_extension": ".py",
   "mimetype": "text/x-python",
   "name": "python",
   "nbconvert_exporter": "python",
   "pygments_lexer": "ipython3",
   "version": "3.10.9"
  }
 },
 "nbformat": 4,
 "nbformat_minor": 5
}
