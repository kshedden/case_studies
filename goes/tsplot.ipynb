{
 "cells": [
  {
   "cell_type": "markdown",
   "id": "0",
   "metadata": {},
   "source": [
    "# GOES time series plots"
   ]
  },
  {
   "cell_type": "code",
   "execution_count": null,
   "id": "1",
   "metadata": {},
   "outputs": [],
   "source": [
    "import pandas as pd\n",
    "import numpy as np\n",
    "import matplotlib.pyplot as plt\n",
    "from read import get_goes"
   ]
  },
  {
   "cell_type": "markdown",
   "id": "2",
   "metadata": {},
   "source": [
    "Generate summary time series plots showing the daily minimum and\n",
    "daily maximum flux for each instrument (flux-1 and flux-2) in\n",
    "each year.  Mark the thresholds for C, M, and X flares with\n",
    "horizontal lines."
   ]
  },
  {
   "cell_type": "code",
   "execution_count": null,
   "id": "3",
   "metadata": {},
   "outputs": [],
   "source": [
    "years = [2017, 2019]\n",
    "\n",
    "da = {}\n",
    "for year in years:\n",
    "    df = get_goes(year)\n",
    "    df[\"DayofYear\"] = [x.dayofyear for x in df.Time]\n",
    "    da[year] = df"
   ]
  },
  {
   "cell_type": "code",
   "execution_count": null,
   "id": "4",
   "metadata": {},
   "outputs": [],
   "source": [
    "da[2017].head()"
   ]
  },
  {
   "cell_type": "markdown",
   "id": "5",
   "metadata": {},
   "source": []
  },
  {
   "cell_type": "code",
   "execution_count": null,
   "id": "6",
   "metadata": {},
   "outputs": [],
   "source": [
    "def tsplot_day(year, vn, dolog):\n",
    "\n",
    "    df = da[year]\n",
    "    df[\"Flux\"] = np.log10(df[vn]) if dolog else df[vn]\n",
    "    df[\"dayofyear\"] = df[\"Time\"].dt.dayofyear\n",
    "    \n",
    "    days = np.random.choice(np.arange(365), 5)\n",
    "    dx = df.loc[df[\"dayofyear\"].isin(days)]\n",
    "    \n",
    "    plt.figure(figsize=(12, 5))\n",
    "    plt.axes([0.1, 0.1, 0.77, 0.8])\n",
    "    plt.grid(True)\n",
    "    for (ky,dz) in dx.groupby(\"dayofyear\"):\n",
    "        plt.plot(np.arange(dz.shape[0]), dz[\"Flux\"], \"-\", alpha=0.5)\n",
    "\n",
    "\n",
    "    plt.xlabel(\"Time within day\", size=15)\n",
    "    plt.ylabel(vn, size=15)\n",
    "    plt.title(year)\n",
    "    \n",
    "tsplot_day(2017, \"Flux1\", True)"
   ]
  },
  {
   "cell_type": "code",
   "execution_count": null,
   "id": "7",
   "metadata": {},
   "outputs": [],
   "source": [
    "def tsplot(year, vn, dolog):\n",
    "\n",
    "    df = da[year]\n",
    "    df[\"Flux\"] = np.log10(df[vn]) if dolog else df[vn]\n",
    "    dx = df.groupby(\"DayofYear\").agg({\"Flux\": [np.min, np.max]})\n",
    "\n",
    "    plt.figure(figsize=(12, 5))\n",
    "    plt.axes([0.1, 0.1, 0.77, 0.8])\n",
    "    plt.grid(True)\n",
    "    plt.plot(dx.index, dx[(\"Flux\", \"min\")], \"-\", color=\"blue\", label=\"Daily min\", alpha=0.5)\n",
    "    plt.plot(dx.index, dx[(\"Flux\", \"max\")], \"-\", color=\"red\", label=\"Daily max\", alpha=0.5)\n",
    "    if dolog:\n",
    "        plt.axhline(-6, label=\"C\", color=\"green\")\n",
    "        plt.axhline(-5, label=\"M\", color=\"orange\")\n",
    "        plt.axhline(-4, label=\"X\", color=\"purple\")\n",
    "    else:\n",
    "        plt.axhline(10**-6, label=\"C\", color=\"green\")\n",
    "        plt.axhline(10**-5, label=\"M\", color=\"orange\")\n",
    "        plt.axhline(10**-4, label=\"X\", color=\"purple\")\n",
    "    ha, lb = plt.gca().get_legend_handles_labels()\n",
    "    leg = plt.figlegend(ha, lb, loc=\"center right\")\n",
    "    leg.draw_frame(False)\n",
    "    plt.xlabel(\"Day of year\", size=15)\n",
    "    plt.ylabel(vn, size=15)\n",
    "    plt.title(year)"
   ]
  },
  {
   "cell_type": "code",
   "execution_count": null,
   "id": "8",
   "metadata": {},
   "outputs": [],
   "source": [
    "tsplot(2017, \"Flux1\", False)"
   ]
  },
  {
   "cell_type": "code",
   "execution_count": null,
   "id": "9",
   "metadata": {},
   "outputs": [],
   "source": [
    "tsplot(2017, \"Flux1\", True)"
   ]
  },
  {
   "cell_type": "code",
   "execution_count": null,
   "id": "10",
   "metadata": {},
   "outputs": [],
   "source": [
    "tsplot(2019, \"Flux1\", False)"
   ]
  },
  {
   "cell_type": "code",
   "execution_count": null,
   "id": "11",
   "metadata": {},
   "outputs": [],
   "source": [
    "tsplot(2019, \"Flux1\", True)"
   ]
  }
 ],
 "metadata": {
  "jupytext": {
   "cell_metadata_filter": "-all",
   "main_language": "python",
   "notebook_metadata_filter": "-all"
  },
  "kernelspec": {
   "display_name": "Python 3 (ipykernel)",
   "language": "python",
   "name": "python3"
  },
  "language_info": {
   "codemirror_mode": {
    "name": "ipython",
    "version": 3
   },
   "file_extension": ".py",
   "mimetype": "text/x-python",
   "name": "python",
   "nbconvert_exporter": "python",
   "pygments_lexer": "ipython3",
   "version": "3.10.9"
  }
 },
 "nbformat": 4,
 "nbformat_minor": 5
}
