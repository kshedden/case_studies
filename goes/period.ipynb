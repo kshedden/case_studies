{
 "cells": [
  {
   "cell_type": "markdown",
   "id": "0",
   "metadata": {},
   "source": [
    "# Analysis of periodicity in GOES data\n",
    "\n",
    "[Spectral analysis](https://en.wikipedia.org/wiki/Spectral_density_estimation) is an extensively-developed set of techniques for identifying the main periodic components of a time series.  The most common approaches are based on [Fourier analysis](https://en.wikipedia.org/wiki/Fourier_analysis), which shows that many functions can be written as linear combinations of sine and cosine functions that are mutually orthogonal.  This orthogonality permits the development of fast algorithms, including the [fast Fourier transformation](https://en.wikipedia.org/wiki/Fast_Fourier_transform) (FFT).  However if the time series are sampled on an irregular grid, these standard fast algorithms cannot be applied.  It remains possible to obtain an additive decomposition, and the calculations can be carried out using [least squares spectral analysis](https://en.wikipedia.org/wiki/Least-squares_spectral_analysis)."
   ]
  },
  {
   "cell_type": "code",
   "execution_count": null,
   "id": "1",
   "metadata": {},
   "outputs": [],
   "source": [
    "import numpy as np\n",
    "from read import *\n",
    "from scipy.signal import lombscargle\n",
    "import matplotlib.pyplot as plt"
   ]
  },
  {
   "cell_type": "markdown",
   "id": "2",
   "metadata": {},
   "source": [
    "Due to extreme skew (and likely heavy tails) we carry out the periodicity analysis on the log scale."
   ]
  },
  {
   "cell_type": "code",
   "execution_count": null,
   "id": "3",
   "metadata": {},
   "outputs": [],
   "source": [
    "df = get_goes(2017)\n",
    "df[\"Flux1_log\"] = np.log(df[\"Flux1\"] + 1e-7)"
   ]
  },
  {
   "cell_type": "markdown",
   "id": "4",
   "metadata": {},
   "source": [
    "Arange the data into blocks containing mp observations, which is around mp/30 minutes of data."
   ]
  },
  {
   "cell_type": "code",
   "execution_count": null,
   "id": "5",
   "metadata": {
    "lines_to_next_cell": 1
   },
   "outputs": [],
   "source": [
    "mp = 5000\n",
    "tix, flx = make_blocks(df, mp, 0, fluxvar=\"Flux1_log\")\n",
    "print(mp/30)"
   ]
  },
  {
   "cell_type": "code",
   "execution_count": null,
   "id": "6",
   "metadata": {
    "lines_to_next_cell": 1
   },
   "outputs": [],
   "source": [
    "def make_plot(w, ma, ti):\n",
    "    plt.clf()\n",
    "    plt.grid(True)\n",
    "    for m in ma:\n",
    "        plt.plot(60*w, m)\n",
    "    plt.ylabel(\"Energy\", size=15)\n",
    "    plt.xlabel(\"Cycles/minute (frequency)\", size=15)\n",
    "    plt.title(ti)\n",
    "    plt.show()\n",
    "    plt.clf()\n",
    "    plt.grid(True)\n",
    "    for m in ma:\n",
    "        plt.plot(1/(60*w), m)\n",
    "    plt.ylabel(\"Energy\", size=15)\n",
    "    plt.xlabel(\"Minutes/cycle (period)\", size=15)\n",
    "    plt.title(ti)\n",
    "    plt.show()"
   ]
  },
  {
   "cell_type": "markdown",
   "id": "7",
   "metadata": {},
   "source": [
    "We use simulated test data to be sure that we are interpreting the plot correctly.  In the test data, there is one sinusoidal component with additive \"white noise\".  The sinusoidal component has with 1 cycle every 10 seconds, or a frequency of 0.1 cycles per second, or 6 cycles per minute.  The first dataset has a very strong sinusoid and is easily detected.  The second dataset has much lower signal-to-noise ratio and is still detected, but with other frequencies having nearly as much energy as the true one."
   ]
  },
  {
   "cell_type": "code",
   "execution_count": null,
   "id": "8",
   "metadata": {},
   "outputs": [],
   "source": [
    "period = 10     # True period\n",
    "w = 1 / period  # True frequency\n",
    "ti = np.sort(1000*np.random.uniform(size=100000)) # Irregular time points\n",
    "for s in [10, 35]:\n",
    "    flux1 = np.cos(w*2*np.pi*ti) + s*np.random.normal(size=ti.shape[0])\n",
    "    wf = np.linspace(0.1, 2, 400)  # Frequencies to fit\n",
    "    m = lombscargle(ti, flux1, wf, precenter=True, normalize=True)\n",
    "    ww = wf / (2*np.pi)\n",
    "    make_plot(ww, [m], \"Simulated data (s=%.2f)\" % s)"
   ]
  },
  {
   "cell_type": "markdown",
   "id": "9",
   "metadata": {},
   "source": [
    "Below we calculate the spectral densities using least squares methods for the blocks of the overall series."
   ]
  },
  {
   "cell_type": "code",
   "execution_count": null,
   "id": "10",
   "metadata": {},
   "outputs": [],
   "source": [
    "ma = []\n",
    "w = np.linspace(0.01, 0.5, 800)  # Frequencies to fit\n",
    "ww = w / (2*np.pi)\n",
    "for k in range(flx.shape[0]):\n",
    "    if k % 100 == 0:\n",
    "        print(k)\n",
    "    m = lombscargle(tix[k, :], flx[k, :], w, precenter=True, normalize=True)\n",
    "    if np.any(np.isnan(m)):\n",
    "        continue\n",
    "    ma.append(m)\n",
    "    if k >= 100:\n",
    "        break # Stop here for speed"
   ]
  },
  {
   "cell_type": "markdown",
   "id": "11",
   "metadata": {},
   "source": [
    "Each row of the matrix 'ma' below is one estimated spectral density, from one block of the Flux time series."
   ]
  },
  {
   "cell_type": "code",
   "execution_count": null,
   "id": "12",
   "metadata": {},
   "outputs": [],
   "source": [
    "ma = np.asarray(ma)\n",
    "ma.shape"
   ]
  },
  {
   "cell_type": "markdown",
   "id": "13",
   "metadata": {},
   "source": [
    "Below is the mean of the block-wise spectra."
   ]
  },
  {
   "cell_type": "code",
   "execution_count": null,
   "id": "14",
   "metadata": {},
   "outputs": [],
   "source": [
    "plt.clf()\n",
    "plt.grid(True)\n",
    "plt.plot(60*ww, ma.mean(0))\n",
    "plt.xlabel(\"Cycles/minute (frequency)\", size=15)\n",
    "plt.ylabel(\"Energy\", size=15)\n",
    "plt.title(\"GOES-1\")"
   ]
  },
  {
   "cell_type": "markdown",
   "id": "15",
   "metadata": {},
   "source": [
    "The power levels are very right skewed, so we might want to transform them by a power transformation before proceeding.  The transformation below is the \"Box-Cox\" parameterization of the [power transform](https://en.wikipedia.org/wiki/Power_transform). As the exponent 'p' tends to zero, the transform becomes the log transform."
   ]
  },
  {
   "cell_type": "code",
   "execution_count": null,
   "id": "16",
   "metadata": {},
   "outputs": [],
   "source": [
    "gm = np.exp(np.mean(np.log(ma)))\n",
    "p = 0.001\n",
    "xma = (ma**0.1 - 1) / (p * gm**(p-1))\n",
    "xmn = xma.mean(0)\n",
    "xmc = xma - xmn\n",
    "\n",
    "plt.clf()\n",
    "plt.grid(True)\n",
    "plt.plot(60*ww, xmn, \"blue\")\n",
    "plt.xlabel(\"Cycles/minute (frequency)\", size=15)\n",
    "plt.ylabel(\"Transformed energy\", size=15)\n",
    "plt.title(\"GOES-1\")"
   ]
  },
  {
   "cell_type": "code",
   "execution_count": null,
   "id": "17",
   "metadata": {},
   "outputs": [],
   "source": [
    "u, s, vt = np.linalg.svd(xmc, 0)\n",
    "v = vt.T\n",
    "f = np.quantile(s[0] * u[:, 0], 0.75) - np.quantile(s[0] * u[:, 0], 0.25)"
   ]
  },
  {
   "cell_type": "code",
   "execution_count": null,
   "id": "18",
   "metadata": {},
   "outputs": [],
   "source": [
    "plt.clf()\n",
    "plt.grid(True)\n",
    "plt.plot(60*ww, xmn + f*v[:, 0], \"-\", color=\"grey\")\n",
    "plt.plot(60*ww, xmn - f*v[:, 0], \"-\", color=\"grey\")\n",
    "plt.plot(60*ww, xmn, \"blue\")\n",
    "plt.xlabel(\"Cycles/minute (frequency)\", size=15)\n",
    "plt.ylabel(\"Transformed energy\", size=15)\n",
    "plt.title(\"GOES-1\")"
   ]
  },
  {
   "cell_type": "code",
   "execution_count": null,
   "id": "19",
   "metadata": {},
   "outputs": [],
   "source": [
    "plt.plot(xmn, f*v[:, 0], \"o\", alpha=0.5)\n",
    "plt.xlabel(\"Mean\", size=12)\n",
    "plt.ylabel(\"Scaled loadings\", size=12)\n",
    "plt.grid(True)"
   ]
  },
  {
   "cell_type": "code",
   "execution_count": null,
   "id": "20",
   "metadata": {},
   "outputs": [],
   "source": []
  }
 ],
 "metadata": {
  "jupytext": {
   "cell_metadata_filter": "-all",
   "main_language": "python",
   "notebook_metadata_filter": "-all"
  },
  "kernelspec": {
   "display_name": "Python 3 (ipykernel)",
   "language": "python",
   "name": "python3"
  },
  "language_info": {
   "codemirror_mode": {
    "name": "ipython",
    "version": 3
   },
   "file_extension": ".py",
   "mimetype": "text/x-python",
   "name": "python",
   "nbconvert_exporter": "python",
   "pygments_lexer": "ipython3",
   "version": "3.10.9"
  }
 },
 "nbformat": 4,
 "nbformat_minor": 5
}
