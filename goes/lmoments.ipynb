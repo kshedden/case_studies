{
 "cells": [
  {
   "cell_type": "markdown",
   "id": "0",
   "metadata": {},
   "source": [
    "# L-moment characterization of GOES data\n",
    "\n",
    "[L-moments](https://en.wikipedia.org/wiki/L-moment) are linear combinations of order statistics that can be used to characterize probability distributions on the real line.  Typicall, the first four L-moments are used, which are analagous to the conventional moments: mean, variance, skewness, and kurtosis. L-moments are more robust than conventional moments.  They can be used to characterize a distribution for descriptive purposes, and they can be used to robustly fit parametric models to data.  However, the latter is complicated by the fact that it is not always straightforward to determine the population values of L-moments in terms of distribution parameters."
   ]
  },
  {
   "cell_type": "code",
   "execution_count": null,
   "id": "1",
   "metadata": {},
   "outputs": [],
   "source": [
    "import lmom\n",
    "import pandas as pd\n",
    "import numpy as np\n",
    "from read import get_goes\n",
    "import matplotlib.pyplot as plt"
   ]
  },
  {
   "cell_type": "code",
   "execution_count": null,
   "id": "2",
   "metadata": {},
   "outputs": [],
   "source": [
    "df = get_goes(2017)\n",
    "df[\"Year\"] = df[\"Time\"].dt.year\n",
    "df[\"dayofyear\"] = df[\"Time\"].dt.dayofyear\n",
    "df = df.query(\"dayofyear<=150\")"
   ]
  },
  {
   "cell_type": "markdown",
   "id": "3",
   "metadata": {},
   "source": [
    "Calculate the raw L-moments for each day of data."
   ]
  },
  {
   "cell_type": "code",
   "execution_count": null,
   "id": "4",
   "metadata": {},
   "outputs": [],
   "source": [
    "lm = []\n",
    "for (k, dv) in df.groupby([\"Year\", \"dayofyear\"]):\n",
    "    v = np.sort(dv[\"Flux1\"].values)\n",
    "    row = [lmom.l1(v), lmom.l2(v), lmom.l3(v), lmom.l4(v)]\n",
    "    lm.append(row)"
   ]
  },
  {
   "cell_type": "code",
   "execution_count": null,
   "id": "5",
   "metadata": {},
   "outputs": [],
   "source": [
    "lm = np.asarray(lm)\n",
    "lm = pd.DataFrame(lm, columns=[\"l1\", \"l2\", \"l3\", \"l4\"])\n",
    "lm.head()"
   ]
  },
  {
   "cell_type": "markdown",
   "id": "6",
   "metadata": {},
   "source": [
    "Standardized L-moments."
   ]
  },
  {
   "cell_type": "code",
   "execution_count": null,
   "id": "7",
   "metadata": {},
   "outputs": [],
   "source": [
    "lm[\"l3s\"] = lm[\"l3\"] / lm[\"l2\"]\n",
    "lm[\"l4s\"] = lm[\"l4\"] / lm[\"l2\"]"
   ]
  },
  {
   "cell_type": "markdown",
   "id": "8",
   "metadata": {},
   "source": [
    "Investigate relationships among the L-moments."
   ]
  },
  {
   "cell_type": "code",
   "execution_count": null,
   "id": "9",
   "metadata": {},
   "outputs": [],
   "source": [
    "v = [\"l1\", \"l2\", \"l3s\", \"l4s\"]\n",
    "na = [\"L-mean\", \"L-dispersion\", \"Standardized L-skew\", \"Standardized L-kurtosis\"]\n",
    "for j in range(4):\n",
    "    for k in range(j):\n",
    "        for dolog in [False, True]:\n",
    "\n",
    "            # Don't log the skew\n",
    "            if dolog and 2 in [j, k]:\n",
    "                continue\n",
    "\n",
    "            plt.clf()\n",
    "            plt.grid(True)\n",
    "            if dolog:\n",
    "                plt.plot(np.log(lm[v[j]]), np.log(lm[v[k]]), \"o\", alpha=0.5, mfc=\"none\")\n",
    "                plt.xlabel(\"log %s\" % na[j], size=15)\n",
    "                plt.ylabel(\"log %s\" % na[k], size=15)\n",
    "            else:\n",
    "                plt.plot(lm[v[j]], lm[v[k]], \"o\", alpha=0.5, mfc=\"none\")\n",
    "                plt.xlabel(na[j], size=15)\n",
    "                plt.ylabel(na[k], size=15)\n",
    "            plt.show()"
   ]
  }
 ],
 "metadata": {
  "jupytext": {
   "cell_metadata_filter": "-all",
   "main_language": "python",
   "notebook_metadata_filter": "-all"
  },
  "kernelspec": {
   "display_name": "Python 3 (ipykernel)",
   "language": "python",
   "name": "python3"
  },
  "language_info": {
   "codemirror_mode": {
    "name": "ipython",
    "version": 3
   },
   "file_extension": ".py",
   "mimetype": "text/x-python",
   "name": "python",
   "nbconvert_exporter": "python",
   "pygments_lexer": "ipython3",
   "version": "3.10.9"
  }
 },
 "nbformat": 4,
 "nbformat_minor": 5
}
