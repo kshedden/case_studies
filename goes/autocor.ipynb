{
 "cells": [
  {
   "cell_type": "markdown",
   "id": "0",
   "metadata": {},
   "source": [
    "# GOES autocorrelation analysis\n",
    "\n",
    "\n",
    "[Autocorrelation](https://en.wikipedia.org/wiki/Autocorrelation) analysis considers the statistical dependence between elements of a time series in terms of the amount of elapsed time between them.\n",
    "\n",
    "The usual measure of time series autocorrelation is based on Pearson correlation.  But for time series with potentially heavy-tailed marginal distributions, a robust form of autocorrelation analysis can be conducted using the [Kendall tau](https://en.wikipedia.org/wiki/Kendall_rank_correlation_coefficient) autocorrelation.  Specifically, we can consider the [Kendall tau autocorrelation](https://escholarship.org/uc/item/7jt8s827) at lag $s$, between the series $X(t)$ and the shifted series $X(t+s)$.\n",
    "\n",
    "An important point of consideration in any time series analysis is whether the time series is [stationary](https://en.wikipedia.org/wiki/Stationary_process).  If the time series is not stationary, it is difficult to interpret the autocorrelation function. \n",
    "\n",
    "The GOES series are very long (one year of data at a 2-second cadence gives over 14 million observations), and it is unlikely that they are stationary (for example, there is an 11 year cycle and any given year occupies a limited subinterval of this cycle).  To address this, we can consider blocks of consecutive observations taken from the much longer X-ray flux time series, and estimate the autocorrelation function for each block.  Below we consider blocks of around 4 hours in duration, consisting of around 8000 serial observations. The block size can be set below via the variable 'bs'.\n",
    "\n",
    "This analysis is informative about local dependence within each block, as well as about the extent of non-stationarity in the full (year-long) time series."
   ]
  },
  {
   "cell_type": "code",
   "execution_count": null,
   "id": "1",
   "metadata": {},
   "outputs": [],
   "source": [
    "import numpy as np\n",
    "from read import *\n",
    "import matplotlib.pyplot as plt\n",
    "import scipy.stats as stats\n",
    "from statsmodels.nonparametric.smoothers_lowess import lowess"
   ]
  },
  {
   "cell_type": "code",
   "execution_count": null,
   "id": "2",
   "metadata": {},
   "outputs": [],
   "source": [
    "df = get_goes(2017)\n",
    "df.head()"
   ]
  },
  {
   "cell_type": "markdown",
   "id": "3",
   "metadata": {},
   "source": [
    "Set the block size.  If bs=8000 the overall time of each block is around 4.4 hours."
   ]
  },
  {
   "cell_type": "code",
   "execution_count": null,
   "id": "4",
   "metadata": {},
   "outputs": [],
   "source": [
    "bs = 8000\n",
    "2*bs / (60 * 60) # the number of hours in a block"
   ]
  },
  {
   "cell_type": "markdown",
   "id": "5",
   "metadata": {},
   "source": [
    "The standard error of Kendall's tau for iid data."
   ]
  },
  {
   "cell_type": "code",
   "execution_count": null,
   "id": "6",
   "metadata": {},
   "outputs": [],
   "source": [
    "tse = np.sqrt(2 * (2 * bs + 5) / (9 * bs * (bs - 1)))"
   ]
  },
  {
   "cell_type": "markdown",
   "id": "7",
   "metadata": {},
   "source": [
    "Make blocks of 'bs' consecutive time points with approximately 2-second spacing."
   ]
  },
  {
   "cell_type": "code",
   "execution_count": null,
   "id": "8",
   "metadata": {},
   "outputs": [],
   "source": [
    "tix, flx = make_blocks(df, bs, 0)\n",
    "tix.shape"
   ]
  },
  {
   "cell_type": "code",
   "execution_count": null,
   "id": "9",
   "metadata": {},
   "outputs": [],
   "source": [
    "n, p = flx.shape"
   ]
  },
  {
   "cell_type": "markdown",
   "id": "10",
   "metadata": {},
   "source": [
    "Consider autocorrelation at these time lags"
   ]
  },
  {
   "cell_type": "code",
   "execution_count": null,
   "id": "11",
   "metadata": {},
   "outputs": [],
   "source": [
    "dlags = np.arange(0, 200, 10)"
   ]
  },
  {
   "cell_type": "markdown",
   "id": "12",
   "metadata": {},
   "source": [
    "Convert lags to time in minutes"
   ]
  },
  {
   "cell_type": "code",
   "execution_count": null,
   "id": "13",
   "metadata": {},
   "outputs": [],
   "source": [
    "dtime = dlags * 2 / 60"
   ]
  },
  {
   "cell_type": "markdown",
   "id": "14",
   "metadata": {},
   "source": [
    "Calculate these quantiles across blocks of the autocorrelations."
   ]
  },
  {
   "cell_type": "code",
   "execution_count": null,
   "id": "15",
   "metadata": {},
   "outputs": [],
   "source": [
    "pr = [0.25, 0.5, 0.75]"
   ]
  },
  {
   "cell_type": "markdown",
   "id": "16",
   "metadata": {},
   "source": [
    "Get the autocorrelation for each block"
   ]
  },
  {
   "cell_type": "code",
   "execution_count": null,
   "id": "17",
   "metadata": {},
   "outputs": [],
   "source": [
    "def get_autocor(flx, randomize=False):\n",
    "    n, p = flx.shape\n",
    "    qd = np.zeros((n, len(dlags)))\n",
    "    for (j,d) in enumerate(dlags):\n",
    "        for i in range(flx.shape[0]):\n",
    "            v = flx[i, :]\n",
    "            if randomize:\n",
    "                v = v.copy()\n",
    "                np.random.shuffle(v)\n",
    "            qd[i, j] = stats.kendalltau(v[0:p-d], v[d:]).correlation\n",
    "    return qd\n",
    "            \n",
    "qd = get_autocor(flx)"
   ]
  },
  {
   "cell_type": "markdown",
   "id": "18",
   "metadata": {},
   "source": [
    "Below is a spaghetti plot of a random subset of the block-wise autocorrelation functions."
   ]
  },
  {
   "cell_type": "code",
   "execution_count": null,
   "id": "19",
   "metadata": {},
   "outputs": [],
   "source": [
    "plt.grid(True)\n",
    "ii = np.random.choice(qd.shape[0], 100, replace=False)\n",
    "for i in ii:\n",
    "    plt.plot(dtime, qd[i, :], \"-\", color=\"grey\", alpha=0.5)\n",
    "plt.xlabel(\"Time lag (minutes)\", size=15)\n",
    "plt.ylabel(\"Tau autocorrelation\", size=15)"
   ]
  },
  {
   "cell_type": "markdown",
   "id": "20",
   "metadata": {},
   "source": [
    "Plot some pointwise quantiles of the autocorrelation functions."
   ]
  },
  {
   "cell_type": "code",
   "execution_count": null,
   "id": "21",
   "metadata": {},
   "outputs": [],
   "source": [
    "plt.axes([0.1, 0.1, 0.72, 0.8])\n",
    "plt.grid(True)\n",
    "for i, p0 in enumerate(pr):\n",
    "    qq = np.quantile(qd, p0, axis=0)\n",
    "    plt.plot(dtime, qq, label=\"%.2f\" % p0)\n",
    "ha, lb = plt.gca().get_legend_handles_labels()\n",
    "leg = plt.figlegend(ha, lb, loc=\"center right\")\n",
    "leg.draw_frame(False)\n",
    "plt.xlabel(\"Time lag (minutes)\", size=15)\n",
    "plt.ylabel(\"Tau autocorrelation quantile\", size=15)"
   ]
  },
  {
   "cell_type": "markdown",
   "id": "22",
   "metadata": {},
   "source": [
    "For comparison, let's randomize the data and calculate autocorrelations when we know that the sequences of observations are independent."
   ]
  },
  {
   "cell_type": "code",
   "execution_count": null,
   "id": "23",
   "metadata": {},
   "outputs": [],
   "source": [
    "qdr = get_autocor(flx, randomize=True)\n",
    "\n",
    "plt.grid(True)\n",
    "ii = np.random.choice(qdr.shape[0], 100, replace=False)\n",
    "for i in ii:\n",
    "    plt.plot(dtime, qdr[i, :], \"-\", color=\"grey\", alpha=0.5)\n",
    "plt.xlabel(\"Time lag (minutes)\", size=15)\n",
    "plt.ylabel(\"Tau autocorrelation\", size=15)"
   ]
  },
  {
   "cell_type": "markdown",
   "id": "24",
   "metadata": {},
   "source": [
    "PC decompose the estimated autcorrelation functions"
   ]
  },
  {
   "cell_type": "code",
   "execution_count": null,
   "id": "25",
   "metadata": {},
   "outputs": [],
   "source": [
    "qdm = qd.mean(0)\n",
    "qdc = qd - qdm\n",
    "u, s, vt = np.linalg.svd(qdc, 0)\n",
    "v = vt.T\n",
    "scores = np.dot(u, np.diag(s))"
   ]
  },
  {
   "cell_type": "markdown",
   "id": "26",
   "metadata": {},
   "source": [
    "A basic analysis of the spectrum:"
   ]
  },
  {
   "cell_type": "code",
   "execution_count": null,
   "id": "27",
   "metadata": {},
   "outputs": [],
   "source": [
    "plt.grid(True)\n",
    "pp = np.arange(1, len(qdm)+1)\n",
    "plt.plot(np.log(pp)[:-2], np.log(s)[:-2], \"-o\")\n",
    "plt.xlabel(\"Log position\")\n",
    "plt.ylabel(\"Log singular value\")"
   ]
  },
  {
   "cell_type": "markdown",
   "id": "28",
   "metadata": {},
   "source": [
    "Below we plot the corresponding loadings:"
   ]
  },
  {
   "cell_type": "code",
   "execution_count": null,
   "id": "29",
   "metadata": {},
   "outputs": [],
   "source": [
    "plt.grid(True)\n",
    "for j in range(3):\n",
    "    plt.plot(dtime, v[:, j], label=\"PC %d\" % (j+1))\n",
    "plt.figlegend() \n",
    "plt.xlabel(\"Time lag\")\n",
    "plt.ylabel(\"Loading\")"
   ]
  },
  {
   "cell_type": "markdown",
   "id": "30",
   "metadata": {},
   "source": [
    "Plot the mean autocorrelation +/- each PC."
   ]
  },
  {
   "cell_type": "code",
   "execution_count": null,
   "id": "31",
   "metadata": {},
   "outputs": [],
   "source": [
    "for j in range(3):\n",
    "    plt.clf()\n",
    "    plt.ylim(0, 1)\n",
    "    plt.grid(True)\n",
    "    plt.title(\"PC %d\" % (j + 1))\n",
    "    sd = scores[:, j].std(0)\n",
    "    plt.plot(dtime, qdm, '-', color=\"black\")\n",
    "    plt.plot(dtime, qdm + sd*v[:, j], '-', color=\"red\")\n",
    "    plt.plot(dtime, qdm - sd*v[:, j], '-', color=\"blue\")\n",
    "    plt.xlabel(\"Time lag (minutes)\", size=15)\n",
    "    plt.ylabel(\"Tau autocorrelation\", size=15)\n",
    "    plt.show()"
   ]
  },
  {
   "cell_type": "markdown",
   "id": "32",
   "metadata": {},
   "source": [
    "Plot the PC scores for each factor"
   ]
  },
  {
   "cell_type": "code",
   "execution_count": null,
   "id": "33",
   "metadata": {},
   "outputs": [],
   "source": [
    "for j in range(3):\n",
    "    yh = lowess(scores[:, j], tix[:, 0], frac=0.1)\n",
    "    plt.clf()\n",
    "    plt.axes([0.15, 0.1, 0.72, 0.8])\n",
    "    plt.grid(True)\n",
    "    plt.title(\"PC %d\" % (j + 1))\n",
    "    plt.plot(tix[:, 0], scores[:, j], '-', color=\"black\")\n",
    "    plt.plot(tix[:, 0], yh[:, 1], '-', color=\"red\")\n",
    "    plt.xlabel(\"Time\", size=15)\n",
    "    plt.ylabel(\"Score for factor %d\" % (j + 1), size=15)\n",
    "    plt.show()"
   ]
  }
 ],
 "metadata": {
  "jupytext": {
   "cell_metadata_filter": "-all",
   "main_language": "python",
   "notebook_metadata_filter": "-all"
  },
  "kernelspec": {
   "display_name": "Python 3 (ipykernel)",
   "language": "python",
   "name": "python3"
  },
  "language_info": {
   "codemirror_mode": {
    "name": "ipython",
    "version": 3
   },
   "file_extension": ".py",
   "mimetype": "text/x-python",
   "name": "python",
   "nbconvert_exporter": "python",
   "pygments_lexer": "ipython3",
   "version": "3.10.9"
  }
 },
 "nbformat": 4,
 "nbformat_minor": 5
}
