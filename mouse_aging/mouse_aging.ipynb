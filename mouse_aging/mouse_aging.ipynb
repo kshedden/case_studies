{
 "cells": [
  {
   "cell_type": "markdown",
   "metadata": {
    "id": "4gBVEd8MZC2N"
   },
   "source": [
    "# Longevity phenotypes in mice of various ages\n",
    "\n",
    "In this notebook we consider a [mouse study](https://www.nature.com/articles/s41467-022-34515-y) that examines how phenotypes change as mice age. \n",
    "\n",
    "\n",
    "## Data\n",
    "\n",
    "The study data are available [here](https://data.mendeley.com/preview/ypz9zyc9rp?a=09b16f74-4581-48f7-94af-469e01757949), but you do not need to download the data directly from this link, as the script below will read a prepared version of the data.  You will need to download the data as a json file from [Github](https://github.com/kshedden/case_studies/tree/main/mouse_aging), and change the path below to point to the location of the file on your system.  \n",
    "\n",
    "If you are curious about how the data were prepared, see the [pool.py](https://github.com/kshedden/case_studies/blob/main/mouse_aging/pool.py) Python script. Lists of all phenotypes with their abbreviations (used below) and brief descriptions of the phenotypes are in the supplementary data 2 file linked in the [paper](https://www.nature.com/articles/s41467-022-34515-y), direct link [here](https://static-content.springer.com/esm/art%3A10.1038%2Fs41467-022-34515-y/MediaObjects/41467_2022_34515_MOESM4_ESM.xlsx).\n",
    "\n",
    "## Scientific aims\n",
    "\n",
    "The overarching aim of this study is to understand how phenotypes change with age in mice, either naturalistically or following an intervention.  These are referred to as _age specific phenotypes_, or \"ASPs\".  The authors claim to perform \"deep phenotyping\", by which they mean that a large number of phenotypes (around two-hundred) are assessed. This is an open-ended exploratory study that does not test a specific pre-specified hypothesis.  The researchers considered all phenotypes in an \"unbiased\" manner for changes over the mouse lifespan, and in response to intervention.\n",
    "\n",
    "This study has an [observational](https://en.wikipedia.org/wiki/Observational_study) component in which changes in some phenotypes occur naturalistically over the mouse lifespan.  It also includes an interventional component with three independent interventions: two genetic manipulations and a dietary intervention (calorie restriction).  \n",
    "\n",
    "The authors used both univariate and multivariate methods in their study.  In univariate analyses, a single phenotype was considered in relation to age, and (if present) intervention group assignment. \n",
    "\n",
    "## Study design and analytic methods\n",
    "\n",
    "This study considers phenotypic change over the mouse lifespan. Since some of the phenotypes of interest can only be assessed after sacrificing the mouse, it is implemented as a [cross sectional](https://en.wikipedia.org/wiki/Cross-sectional_study) rather than a [longitudinal](https://en.wikipedia.org/wiki/Longitudinal_study) study.  In the observational component of the study, the authors collected data at 6 distinct ages during the mouse lifespan (from 3-26 months), with around 15 independent mice assessed at each age. In the interventional component of the study, only two time points were considered.  In both cases, mice observed at different ages are mutually independent.  \n",
    "\n",
    "The authors emphasize that at the first age (3 months) the mice are considered to be very young, and are not yet subject to any aging effects.  The effect of an intervention can be limited to the older ages, or alternatively can affect mice at all ages roughly equally.  Although both effects are interesting, the authors argue that the interventions that specifically impact older mice are more likely to translate to human therapies, or to reveal important mechanisms underlying aging.\n",
    "\n",
    "All mice in this study are male.  Current NIH guidance strongly advocates for sex balanced designs (this study was conducted in Europe).\n",
    "\n",
    "A large number of phenotypes are measured.  Some, such as heart rate, can be measured on a living mouse, while others such as organ weights can only be made upon sacrifice of the animal -- this is why the design is cross sectional rather than longitudinal (i.e. by making repeated measures on the same mice). The authors make a number of comments about their study design choices in the Discussion section of their paper.\n",
    "\n",
    "An important practical consideration is whether the phenotypes approximately change linearly over time, or if the phenotype changes are more complex than can be described in linear form.  These two patterns of effects can be distinguished by considering models that are either additive, or that include a time by intervention group interaction."
   ]
  },
  {
   "cell_type": "markdown",
   "metadata": {},
   "source": [
    "We will use the following libraries in our analysis:"
   ]
  },
  {
   "cell_type": "code",
   "execution_count": null,
   "metadata": {
    "id": "ZlOr3QmP_G6-"
   },
   "outputs": [],
   "source": [
    "import pandas as pd\n",
    "import json\n",
    "import gzip\n",
    "import re\n",
    "import io\n",
    "import seaborn as sns\n",
    "import matplotlib.pyplot as plt\n",
    "import numpy as np\n",
    "from scipy import stats\n",
    "import statsmodels.api as sm\n",
    "from statsmodels.stats.anova import anova_lm\n",
    "import string\n",
    "import prince\n",
    "from scipy.stats import distributions\n",
    "from statsmodels.stats.multitest import local_fdr"
   ]
  },
  {
   "cell_type": "markdown",
   "metadata": {
    "id": "Fptt7ZjCw0su"
   },
   "source": [
    "The next cell loads the data from a compressed json \"blob\".  The data take the form of a dictionary that associates the figures of the paper with various data tables.\n",
    "\n",
    "Each data table has two or three columns, giving the age and the recorded value for one phenotype, along with the intervention group assignment if an intervention was performed."
   ]
  },
  {
   "cell_type": "code",
   "execution_count": null,
   "metadata": {
    "id": "zyuHW5hc_WVm"
   },
   "outputs": [],
   "source": [
    "with gzip.open(\"mouse_data.json.gz\") as gg:\n",
    "    md = json.load(gg)"
   ]
  },
  {
   "cell_type": "markdown",
   "metadata": {
    "id": "5dkm_g30yCBB"
   },
   "source": [
    "We can count the number of datasets present in each section of the paper."
   ]
  },
  {
   "cell_type": "code",
   "execution_count": null,
   "metadata": {
    "colab": {
     "base_uri": "https://localhost:8080/"
    },
    "id": "oK62xPsLx-RV",
    "outputId": "ddc7eb50-cb50-4e1b-c699-2962fd96e8c6"
   },
   "outputs": [],
   "source": [
    "{k: len(md[k]) for k in md.keys()}"
   ]
  },
  {
   "cell_type": "markdown",
   "metadata": {},
   "source": [
    "Here is an example of one of the datasets (in text form):"
   ]
  },
  {
   "cell_type": "code",
   "execution_count": null,
   "metadata": {},
   "outputs": [],
   "source": [
    "md[\"Figure2_phenotypes\"][\"tibia_length\"]"
   ]
  },
  {
   "cell_type": "markdown",
   "metadata": {},
   "source": [
    "Here is what the data look like after extracting to a data frame:"
   ]
  },
  {
   "cell_type": "code",
   "execution_count": null,
   "metadata": {},
   "outputs": [],
   "source": [
    "pd.read_csv(io.StringIO(md[\"Figure2_phenotypes\"][\"tibia_length\"]), sep=\",\").head(10)"
   ]
  },
  {
   "cell_type": "markdown",
   "metadata": {
    "id": "5EulwIQr7Tah"
   },
   "source": [
    "The study data are stored as a large collection of small datasets.  The function below extracts one dataset and does some basic preprocessing of it."
   ]
  },
  {
   "cell_type": "code",
   "execution_count": null,
   "metadata": {
    "id": "muMiZBvS7B7O"
   },
   "outputs": [],
   "source": [
    "def get_data(dset, vname, convert_age=True, standardize=False):\n",
    "  \"\"\"\n",
    "  Extract the data for phenotype 'vname' from data collection 'dset'.  \n",
    "  If 'convert_age' is True, the age is converted to numeric values.  If\n",
    "  'standardize' is True, the phenotype values are standardized to zero \n",
    "  mean and unit standard deviation.\n",
    "  \"\"\"\n",
    "  da = pd.read_csv(io.StringIO(md[dset][vname]), sep=\",\")\n",
    "  # Standardize the variable names since they will appear in formulas\n",
    "  vname1 = vname.replace(\" \", \"_\")\n",
    "  vname1 =  \"n\"+vname1 if re.match(\"^\\d\", vname1) is not None else vname1 \n",
    "  vname1 = vname1.translate(str.maketrans('', '', string.punctuation.replace(\"_\", \"\")))\n",
    "  da = da.rename({vname: vname1}, axis=1)\n",
    "  da[vname1] = pd.to_numeric(da[vname1], errors=\"coerce\")\n",
    "  if convert_age:\n",
    "    da[\"age\"] = pd.to_numeric(da[\"age\"].str.replace(\"_mo\", \"\"))\n",
    "  if standardize:\n",
    "    da[vname1] = (da[vname1] - da[vname1].mean()) / da[vname1].std()\n",
    "  return vname1, da.dropna()"
   ]
  },
  {
   "cell_type": "markdown",
   "metadata": {},
   "source": [
    "Here is what the data look like after pre-processing:"
   ]
  },
  {
   "cell_type": "code",
   "execution_count": null,
   "metadata": {},
   "outputs": [],
   "source": [
    "get_data(\"Figure2_phenotypes\", \"tibia_length\")[1]"
   ]
  },
  {
   "cell_type": "markdown",
   "metadata": {},
   "source": [
    "We also have the option to convert the measurements to Z-scores:"
   ]
  },
  {
   "cell_type": "code",
   "execution_count": null,
   "metadata": {},
   "outputs": [],
   "source": [
    "get_data(\"Figure2_phenotypes\", \"tibia_length\", standardize=True)[1].head(10)"
   ]
  },
  {
   "cell_type": "markdown",
   "metadata": {
    "id": "0sl0rDoMxq7l"
   },
   "source": [
    "# Analysis of observational data\n",
    "\n",
    "## Visualization\n",
    "\n",
    "As a form of [exploratory data analysis](https://en.wikipedia.org/wiki/Exploratory_data_analysis), the next cell uses [boxplots](https://en.wikipedia.org/wiki/Box_plot) to visualize a few of the phenotypes from the \"figure 2\" set of experimental results (this is an observational component of the study, looking at associations between age and naturally-varying phenotypes).  We also print a frequency table for the number of observations (independent mice) at each age in each dataset.  \n",
    "\n",
    "The boxplots reflect one of the primary research aims of the study, which is to identify age-related changes in phenotypes.  The median line in each box should follow the trajectory of age-related change for each phenotype, and the widths of the boxes should reflect the degree of dispersion around the central value."
   ]
  },
  {
   "cell_type": "code",
   "execution_count": null,
   "metadata": {
    "colab": {
     "base_uri": "https://localhost:8080/",
     "height": 1000
    },
    "id": "mquOiTWkBdin",
    "outputId": "bf936c60-b364-4f16-f465-627ecd270826"
   },
   "outputs": [],
   "source": [
    "for vname in [\"Body_mass_NMR\", \"HR\"]:\n",
    "  _, da = get_data(\"Figure2_phenotypes\", vname)\n",
    "  c = da.groupby(\"age\").count().sort_index()\n",
    "  print(c)\n",
    "  plt.figure()\n",
    "  sns.boxplot(da, x=\"age\", y=vname)"
   ]
  },
  {
   "cell_type": "markdown",
   "metadata": {
    "id": "UVvYCiIK-J8w"
   },
   "source": [
    "## Formal statistical analyses\n",
    "\n",
    "In their paper, the authors claim that 59% of phenotypes have a [statistically significant](https://en.wikipedia.org/wiki/Statistical_significance) association with age.  The underlying analysis uses a nonparametric one-way ANOVA procedure ([Kruskal-Wallis](https://en.wikipedia.org/wiki/Kruskal%E2%80%93Wallis_test)) for (semi) quantitative phenotypes, and [Fisher's exact test](https://en.wikipedia.org/wiki/Fisher%27s_exact_test) for binary phenotypes.  Below we do a simplified version of this analysis, using for simplicity the Kruskal-Wallis ANOVA procedure for all phenotypes.  This analysis does not impose a mean structure model, such as assuming linear change of the phenotype with age.\n",
    "\n",
    "The results are quite similar to those reported in the publication (57% versus 59%)."
   ]
  },
  {
   "cell_type": "code",
   "execution_count": null,
   "metadata": {
    "colab": {
     "base_uri": "https://localhost:8080/"
    },
    "id": "RGE0ymLMWWTO",
    "outputId": "e7fcfb2b-e2dd-43f3-da04-16c4226e8c16"
   },
   "outputs": [],
   "source": [
    "n0, n1 = 0, 0\n",
    "nobs = []\n",
    "for vname in md[\"Figure2_phenotypes\"].keys():\n",
    "  vname1, da = get_data(\"Figure2_phenotypes\", vname)\n",
    "  ga = da.groupby(\"age\").groups\n",
    "  dx = [da[vname1][g].values for g in ga.values()]\n",
    "  kr = stats.kruskal(*dx)\n",
    "  n0 += 1\n",
    "  n1 += kr.pvalue < 0.05\n",
    "  nobs.append(da.shape[0])\n",
    "(n0, n1, n1/n0)"
   ]
  },
  {
   "cell_type": "markdown",
   "metadata": {},
   "source": [
    "The graph below shows the distribution of the number of observations (across all ages) per phenotype."
   ]
  },
  {
   "cell_type": "code",
   "execution_count": null,
   "metadata": {},
   "outputs": [],
   "source": [
    "nobs = np.asarray(nobs)\n",
    "plt.hist(nobs)\n",
    "plt.xlabel(\"Number of observations\")\n",
    "plt.ylabel(\"Number of phenotypes\")\n",
    "np.median(nobs)"
   ]
  },
  {
   "cell_type": "markdown",
   "metadata": {},
   "source": [
    "We can also assess for relationships using Pearson correlation.  This approach is more sensitive to linear change but is completely unable to detect \"U-shaped\" relationships.  In this case the results of the Pearson correlation analysis are almost identical to the results of the \"nonparametric\" approach."
   ]
  },
  {
   "cell_type": "code",
   "execution_count": null,
   "metadata": {},
   "outputs": [],
   "source": [
    "n0, n1 = 0, 0\n",
    "for vname in md[\"Figure2_phenotypes\"].keys():\n",
    "  vname1, da = get_data(\"Figure2_phenotypes\", vname)\n",
    "  r = np.corrcoef(da[\"age\"], da[vname1])[0,1]\n",
    "  se = 1/np.sqrt(da.shape[0])\n",
    "  n0 += 1\n",
    "  n1 += np.abs(r) > 2*se\n",
    "(n0, n1, n1/n0)"
   ]
  },
  {
   "cell_type": "markdown",
   "metadata": {},
   "source": [
    "We can take a [large scale inference](https://www.cambridge.org/core/books/largescale-inference/A0B183B0080A92966497F12CE5D12589) perspective and consider how the Kruskal-Wallis and Pearson correlation approaches relate across the large collection of phenotypes considered here."
   ]
  },
  {
   "cell_type": "code",
   "execution_count": null,
   "metadata": {},
   "outputs": [],
   "source": [
    "rr = []\n",
    "for vname in md[\"Figure2_phenotypes\"].keys():\n",
    "  vname1, da = get_data(\"Figure2_phenotypes\", vname)\n",
    "\n",
    "  # Kruskal-Wallis analysis\n",
    "  ga = da.groupby(\"age\").groups\n",
    "  dx = [da[vname1][g].values for g in ga.values()]\n",
    "  kr = stats.kruskal(*dx)\n",
    "    \n",
    "  # Convert the Kruskal-Wallis statistic to a Z-score\n",
    "  ng = len(ga.values()) # number of age groups\n",
    "  zstat = distributions.norm().ppf(distributions.chi2(ng-1).cdf(kr.statistic))\n",
    "\n",
    "  # Pearson correlation analysis\n",
    "  r = np.corrcoef(da[\"age\"], da[vname1])[0,1]\n",
    "  se = 1/np.sqrt(da.shape[0])\n",
    "    \n",
    "  rr.append([vname1, kr.statistic, kr.pvalue, zstat, r/se])\n",
    "\n",
    "rr = pd.DataFrame(rr, columns=[\"pheno\", \"KWstat\", \"KWpval\", \"KWZ\", \"PCZ\"])\n",
    "\n",
    "plt.grid(True)\n",
    "sns.scatterplot(rr, x=\"KWZ\", y=\"PCZ\")"
   ]
  },
  {
   "cell_type": "code",
   "execution_count": null,
   "metadata": {},
   "outputs": [],
   "source": [
    "rr.head()"
   ]
  },
  {
   "cell_type": "markdown",
   "metadata": {},
   "source": [
    "These are the phenotypes that have strong evidence for differences under the Kruskal-Wallis analysis and minimal evidence for differences under the Pearson correlation analysis."
   ]
  },
  {
   "cell_type": "code",
   "execution_count": null,
   "metadata": {},
   "outputs": [],
   "source": [
    "ii = (rr.KWZ > 2) & (np.abs(rr.PCZ) < 1) \n",
    "rq = rr[ii]\n",
    "for vname in rq[\"pheno\"]:\n",
    "    _, da = get_data(\"Figure2_phenotypes\", vname)\n",
    "    plt.figure()\n",
    "    sns.boxplot(da, x=\"age\", y=vname)"
   ]
  },
  {
   "cell_type": "markdown",
   "metadata": {},
   "source": [
    "Although 107 (around 58%) of the phenotypes show age dependence based on having a p-value smaller than 0.05, this set potentially includes many false positives since we are testing multiple hypotheses.  The traditional way to address this is to control the Family-Wise Error Rate (FWER).  The Bonferroni method achieves this and is easy to use.  However it can be quite conservative when the data corresponding to different hypotheses are not independent.  As shown below, if we control the FWER, then less than half of the phenotypes remain \"significant\"."
   ]
  },
  {
   "cell_type": "code",
   "execution_count": null,
   "metadata": {},
   "outputs": [],
   "source": [
    "ntest = rr.shape[0]\n",
    "print((rr[\"KWpval\"] < 0.05).sum())\n",
    "print((rr[\"KWpval\"] < 0.05/ntest).sum())\n",
    "print((ntest*rr[\"KWpval\"] < 0.05).sum())"
   ]
  },
  {
   "cell_type": "markdown",
   "metadata": {},
   "source": [
    "False Discovery Rates (FDR) are a popular method to assess the results of large numbers of hypothesis tests.  The FDR is calculated at a threshold t, and considers a hypothesis to be a \"discovery\" if its test statistic exceeds t (usually we do two-sided analysis, so we consider whether the magnitude of the test statistic exceeds t).  The FDR is the proportion of discoveries that are false, so the number of discoveries belongs in the denominator of the FDR, and the numerator of the FDR is an estimate of the number of false discoveries that would be made for a given number of tests m and a given test statistic threshold t.  If our test statistic is a Z-score and follows a standard normal distribution under the null, this numerator can be easily estimated (or bounded).\n",
    "\n",
    "Below we calculate FDR values for a series of thresholds t.  These FDR values pertain to the null hypothesese that each phenotype is unrelated to age (i.e. follows the same distribution at each age).  We use as a conservative estimator the ratio of the expected number of false discoveries to the number of discoveries.  "
   ]
  },
  {
   "cell_type": "code",
   "execution_count": null,
   "metadata": {},
   "outputs": [],
   "source": [
    "for t in [1, 2, 3, 4, 5, 10]:\n",
    "    n_expected = rr.shape[0]*(1 - stats.norm.cdf(t))\n",
    "    n_observed = (rr[\"KWZ\"] > t).sum()\n",
    "    fdr = n_expected / n_observed\n",
    "    print([t, n_expected, n_observed, fdr])"
   ]
  },
  {
   "cell_type": "markdown",
   "metadata": {},
   "source": [
    "Efron devised the \"local\" false discovery rate which is the ratio of the density of observed statistics to its null density.  The local FDR is $p_0f_0(z)/f(z)$, where $p_0$ is the proportion of true null hypotheses, $f_0$ is the density of null Z-scores, and $f$ is the density of observed Z-scores.  A conservative estimate of the local FDR is obtained by setting $p_0=1$.  In the next cell we estimate $f$ using a histogram and assume that $f_0$ is standard normal."
   ]
  },
  {
   "cell_type": "code",
   "execution_count": null,
   "metadata": {},
   "outputs": [],
   "source": [
    "plt.hist(rr[\"KWZ\"], bins=20, density=True);\n",
    "x = np.linspace(-3, 6, 100)\n",
    "y = np.exp(-x**2/2)/np.sqrt(2*np.pi)\n",
    "plt.plot(x, y, \"-\")\n",
    "plt.xlabel(\"KW Z-score\")\n",
    "plt.ylabel(\"Density\")"
   ]
  },
  {
   "cell_type": "markdown",
   "metadata": {},
   "source": [
    "The actual local FDR approach uses \"Lindsey's method\" instead of a histogram to estimate $f$.  There is also an \"empirical null\" strategy that allows the data to inform the value of $f_0$, but we do not consider that further here.  Below we see that under the standard of local FDR, we can be confident that 63 of the phenotypes are age-specific.  This is modestly more than under FWER control."
   ]
  },
  {
   "cell_type": "code",
   "execution_count": null,
   "metadata": {},
   "outputs": [],
   "source": [
    "lfdr = local_fdr(rr[\"KWZ\"])\n",
    "np.sum(lfdr < 0.05)"
   ]
  },
  {
   "cell_type": "markdown",
   "metadata": {},
   "source": [
    "The following plot shows the relationship between the Kruskal-Wallis Z-score and the local FDR, which is specific to this dataset."
   ]
  },
  {
   "cell_type": "code",
   "execution_count": null,
   "metadata": {},
   "outputs": [],
   "source": [
    "plt.plot(rr[\"KWZ\"], lfdr, \"o\")\n",
    "plt.xlabel(\"KW Z-score\")\n",
    "plt.ylabel(\"Local FDR\")"
   ]
  },
  {
   "cell_type": "markdown",
   "metadata": {
    "id": "4H6buFw3uHX2"
   },
   "source": [
    "## Analysis of interventional data\n",
    "\n",
    "Now we turn to diet, which is one of the interventional components of the study.  Mice were on either a calorie-restricted or regular diet.  In these experiments, there were two age groups denoted \"young\" and \"old\".\n",
    "\n",
    "We begin by using boxplots to explore the distributions for a few phenotypes."
   ]
  },
  {
   "cell_type": "code",
   "execution_count": null,
   "metadata": {},
   "outputs": [],
   "source": [
    "for vname in [\"ST\", \"Body_mass_NMR\", \"HR\"]:\n",
    "    vname1, da = get_data(\"Figure5_phenotypes\", vname, convert_age=False, standardize=False)\n",
    "    da[\"group\"] = [\"%s:%s\" % (a, b) for a,b in zip(da[\"age\"], da[\"diet\"])]\n",
    "    plt.figure()\n",
    "    sns.boxplot(da, x=\"group\", y=vname1)"
   ]
  },
  {
   "cell_type": "markdown",
   "metadata": {},
   "source": [
    "For more formal analysis, we can use [regression](https://en.wikipedia.org/wiki/Regression_analysis) and [analysis of variance](https://en.wikipedia.org/wiki/Analysis_of_variance) to consider the combined association of age and diet type in relation to each phenotype.  Here we use [ordinary least squares (OLS)](https://en.wikipedia.org/wiki/Ordinary_least_squares) to fit the models since we want effect estimates and not only significance levels.  We fit a \"saturated\" model for each phenotype, which has an intercept, main effects for age and diet, and an [interaction](https://en.wikipedia.org/wiki/Interaction_(statistics)) between age and diet.  \n",
    "\n",
    "In interpreting the results of the analysis, we consider the evidence for additive and non-additive associations between the intervention variable (diet) and the outcome phenotype.  Age is either a [nuisance variable](https://en.wikipedia.org/wiki/Nuisance_variable) or a [moderator](https://en.wikipedia.org/wiki/Moderation_(statistics)) (also known as a _modifier_).  \n",
    "\n",
    "Since age and diet happen to both be binary here, this is a _two-way ANOVA_, specifically a _2x2 layout_.  The additive model can be parameterized in three degrees of freedom and the non-additive model has four degrees of freedom.  We focus on two [Wald tests](https://en.wikipedia.org/wiki/Wald_test) - one testing for an additive contribution of diet, and one testing for non-additivity of the age and diet effects.  We have minimal interest in the main effect of age so do not formally test that effect below.\n",
    "\n",
    "There are over 200 phenotypes so we first calculate all of the relevant statistics and store them in a dataframe."
   ]
  },
  {
   "cell_type": "code",
   "execution_count": null,
   "metadata": {
    "id": "X9jgSQ1kUp4V"
   },
   "outputs": [],
   "source": [
    "anovas, models, vnames, prev = {}, {}, [], []\n",
    "for vname in md[\"Figure5_phenotypes\"].keys():\n",
    "    vname1, da = get_data(\"Figure5_phenotypes\", vname, convert_age=False, standardize=True)\n",
    "    mm = sm.OLS.from_formula(\"%s ~ age * diet\" % vname1, da)\n",
    "    rr = mm.fit()\n",
    "    mx = rr.model.exog\n",
    "    _,s,_ = np.linalg.svd(mx,0)\n",
    "    if s[0]/s[-1] > 100000:\n",
    "        print(\"Skipping %s\" % vname)\n",
    "        continue\n",
    "    aa = anova_lm(rr)\n",
    "    anovas[vname1] = aa\n",
    "    models[vname1] = rr\n",
    "    vnames.append(vname1)\n",
    "    prev.append([(da[\"age\"] == \"young\").mean(), (da[\"diet\"]==\"restricted\").mean()])"
   ]
  },
  {
   "cell_type": "code",
   "execution_count": null,
   "metadata": {},
   "outputs": [],
   "source": [
    "[x for x in all_data.keys() if \"mass\" in x.lower()]\n",
    "print(all_data[\"Body_mass_NMR\"])\n",
    "print(all_data[\"HR\"])"
   ]
  },
  {
   "cell_type": "markdown",
   "metadata": {},
   "source": [
    "Here is the result of one of the model fits above, specifically that for the heart rate (HR) phenotype.  The notation \"T.young\" indicates that this is the coefficient estimate for the indicator of a mouse being young, which (implicitly) tells us that the reference level for the age variable is \"old\". Similarly, the diet coefficient corresponds to the \"restricted\" diet and the reference level is \"control\" (an _ad lib_ diet)."
   ]
  },
  {
   "cell_type": "code",
   "execution_count": null,
   "metadata": {},
   "outputs": [],
   "source": [
    "models[\"HR\"].summary()"
   ]
  },
  {
   "cell_type": "markdown",
   "metadata": {
    "id": "LTUguJLGU1hE"
   },
   "source": [
    "The next cell organizes all of the regression findings into a dataframe.  This dataframe has one row for each phenotype."
   ]
  },
  {
   "cell_type": "code",
   "execution_count": null,
   "metadata": {
    "id": "vTEa_43SbOkr"
   },
   "outputs": [],
   "source": [
    "zscores = [models[v].params / models[v].bse for v in vnames]\n",
    "young_main = [models[v].params[\"age[T.young]\"] for v in vnames]\n",
    "young_main_z = [z[\"age[T.young]\"] for z in zscores]\n",
    "young_main_se = [models[v].bse[\"age[T.young]\"] for v in vnames]\n",
    "restricted_main = [models[v].params[\"diet[T.restricted]\"] for v in vnames]\n",
    "restricted_main_z = [z[\"diet[T.restricted]\"] for z in zscores]\n",
    "restricted_main_se = [models[v].bse[\"diet[T.restricted]\"] for v in vnames]\n",
    "interaction = [models[v].params[\"age[T.young]:diet[T.restricted]\"] for v in vnames]\n",
    "interaction_z = [z[\"age[T.young]:diet[T.restricted]\"] for z in zscores]\n",
    "interaction_se = [models[v].bse[\"age[T.young]:diet[T.restricted]\"] for v in vnames]\n",
    "nobs = [models[v].nobs for v in vnames]\n",
    "prev = np.asarray(prev)\n",
    "\n",
    "effects = pd.DataFrame({\"Variable\": vnames,\n",
    "                        \"nobs\": nobs,\n",
    "                        \"young_main\": young_main, \n",
    "                        \"young_main_z\": young_main_z,\n",
    "                        \"young_main_se\": young_main_se,\n",
    "                        \"restricted_main\": restricted_main, \n",
    "                        \"restricted_main_z\": restricted_main_z,\n",
    "                        \"restricted_main_se\": restricted_main_se,\n",
    "                        \"interaction\": interaction, \n",
    "                        \"interaction_z\": interaction_z,\n",
    "                        \"interaction_se\": interaction_se,\n",
    "                        \"age_sd\": np.sqrt(prev[:, 0] * (1 - prev[:, 0])),\n",
    "                        \"diet_sd\": np.sqrt(prev[:, 1] * (1 - prev[:, 1]))})\n",
    "\n",
    "# Standardized effects\n",
    "effects[\"young_main_s\"] = effects[\"young_main\"] * effects[\"age_sd\"]\n",
    "effects[\"restricted_main_s\"] = effects[\"restricted_main\"] * effects[\"diet_sd\"]\n",
    "effects[\"restricted_main_s_se\"] = effects[\"restricted_main_se\"] * effects[\"diet_sd\"]\n",
    "effects[\"interaction_s\"] = effects[\"interaction\"] * effects[\"age_sd\"] * effects[\"diet_sd\"]\n",
    "effects[\"interaction_s_se\"] = effects[\"interaction_se\"] * effects[\"age_sd\"] * effects[\"diet_sd\"]"
   ]
  },
  {
   "cell_type": "markdown",
   "metadata": {},
   "source": [
    "Map the t-scores to z-scores."
   ]
  },
  {
   "cell_type": "code",
   "execution_count": null,
   "metadata": {},
   "outputs": [],
   "source": [
    "for v in [\"young_main_z\", \"restricted_main_z\", \"interaction_z\"]:\n",
    "    dof = effects[\"nobs\"] - 4\n",
    "    effects[v] = stats.distributions.norm().ppf(stats.distributions.t(df=dof).cdf(effects[v]))"
   ]
  },
  {
   "cell_type": "code",
   "execution_count": null,
   "metadata": {
    "colab": {
     "base_uri": "https://localhost:8080/",
     "height": 443
    },
    "id": "jp_PXZHjBFV2",
    "outputId": "f52bac40-cb24-45c9-f4d9-10230bba207a"
   },
   "outputs": [],
   "source": [
    "effects"
   ]
  },
  {
   "cell_type": "markdown",
   "metadata": {
    "id": "m4f44tY3vU8f"
   },
   "source": [
    "### Visualization of Z-scores\n",
    "\n",
    "The function below creates a dot-plot of the statistically standardized effects for each phenotype, considering one particular term in the model (i.e. one of the two main effects, or the interaction).  These \"statistically standardized effects\" are point estimates divided by the corresponding standard errors.  \n",
    "\n",
    "The vertical lines correspond to commonly-applied decision thresholds for Z-scores.  The dashed lines correspond to a \"nominal\" threshold corresponding to an unadjusted p-value being less than 0.05. The dotted lines correspond to thesholds corrected for multiple hypothesis testing using the [Bonferroni method](https://en.wikipedia.org/wiki/Bonferroni_correction), which controls the family-wise coverage rate."
   ]
  },
  {
   "cell_type": "code",
   "execution_count": null,
   "metadata": {
    "id": "T2OJj5hVe-Lb"
   },
   "outputs": [],
   "source": [
    "def gen_anova_z_plot(term):\n",
    "\n",
    "  # Set up the plot\n",
    "  plt.figure().set_figheight(30)\n",
    "  plt.yticks(fontsize=6);\n",
    "  plt.axvline(x=0, color=\"grey\")\n",
    "\n",
    "  sns.stripplot(data=effects.sort_values(term), y=\"Variable\", x=term)\n",
    "\n",
    "  # Multiplier for confidence intervals with 95% simultaneous (family-wise) coverage. \n",
    "  t = stats.distributions.norm().ppf(1 - 0.025/effects.shape[0])\n",
    "    \n",
    "  plt.axvline(x=-t, color=\"grey\", ls=\"dotted\")\n",
    "  plt.axvline(x=t, color=\"grey\", ls=\"dotted\")\n",
    "    \n",
    "  # 95% CI's (no consideration of multiple coverage)\n",
    "  plt.axvline(x=-2, color=\"grey\", ls=\"dashed\")\n",
    "  plt.axvline(x=2, color=\"grey\", ls=\"dashed\")"
   ]
  },
  {
   "cell_type": "markdown",
   "metadata": {
    "id": "HINLLyx9vg5C"
   },
   "source": [
    "The plot below shows the Z-scores for the diet main effect with respect to each phenotype.  Since there is an interaction term in the model, these effects correspond to the difference between diet groups (restricted minus control) when fixing age at \"old\" (the reference level of age)."
   ]
  },
  {
   "cell_type": "code",
   "execution_count": null,
   "metadata": {
    "colab": {
     "base_uri": "https://localhost:8080/",
     "height": 1000
    },
    "id": "V-oZ1lPcqLIW",
    "outputId": "caa7d43e-db39-42a8-f720-8a83af65114c"
   },
   "outputs": [],
   "source": [
    "gen_anova_z_plot(\"restricted_main_z\")"
   ]
  },
  {
   "cell_type": "markdown",
   "metadata": {
    "id": "TzK3c1Igwn7h"
   },
   "source": [
    "The plot below shows the estimated interaction effects for each phenotype.  These interaction terms can be interpreted as the difference between the diet effect (restricted minus control) in the old age group and the same difference in the young age group.  That is, it is a \"difference of differences\".  Note that none of them reach the threshold required for [family-wise](https://en.wikipedia.org/wiki/Family-wise_error_rate) error control.  This is consistent with the authors' claims that interventions seldom change the rate of change of phenotypes with respect to aging, although some of the phenotypes do change their overall level in response to the intervention."
   ]
  },
  {
   "cell_type": "code",
   "execution_count": null,
   "metadata": {
    "colab": {
     "base_uri": "https://localhost:8080/",
     "height": 1000
    },
    "id": "H4oHc1Miq8B4",
    "outputId": "6a7fa231-aec6-4b5d-f7ea-e0d54e7a0edf"
   },
   "outputs": [],
   "source": [
    "gen_anova_z_plot(\"interaction_z\")"
   ]
  },
  {
   "cell_type": "markdown",
   "metadata": {
    "id": "29fCTc7RWm0U"
   },
   "source": [
    "### Visualization of standardized effects\n",
    "\n",
    "Next we visualize the same effects using a different approach.  A \"standardized effect\" refers here to the effect of one covariate relative to its standard deviation (above we considered Z-scores which are the effects relative to their [standard error](https://en.wikipedia.org/wiki/Standard_error)). Standardized effects are a measure of the [size of an effect](https://en.wikipedia.org/wiki/Effect_size), not its statistical significance.  In order to convey information about statistical significance in these plots, we also include 95% [confidence intervals](https://en.wikipedia.org/wiki/Confidence_interval) (adjusted for multiple comparisons) for each standardized effect.  In the plots below, the orange dots are the point estimates and the blue dots are the lower and upper limits of 95% confidence intervals.\n",
    "\n",
    "Z-scores are dimension free, meaning that their values are unaffected by rescaling either the independent of dependent variables.  Standardized effects are dimension-free with respect to rescaling of the covariate but not with respect to the outcome.  However here we have Z-scored the outcomes so the standardized effects are also dimension free.  In these data, the age covariate is quantitative, but it can only take on two distinct values.  The diet variable is categorical, but has been dummy-coded.  We can present standardized effects for covariates that are binary indicators, but it is important to remember that the standardization is with respect to the frequency of the categories, not with respect a quantitatively measured value."
   ]
  },
  {
   "cell_type": "code",
   "execution_count": null,
   "metadata": {
    "id": "uh3AnOy0AyZ3"
   },
   "outputs": [],
   "source": [
    "def gen_anova_seffect_plot(term):\n",
    "  plt.figure().set_figheight(30)\n",
    "  ee = effects.copy()\n",
    "  t = stats.distributions.norm().ppf(1 - 0.025/effects.shape[0])\n",
    "  ee[\"lcb\"] = ee[term] - t*ee[\"%s_se\" % term]\n",
    "  ee[\"ucb\"] = ee[term] + t*ee[\"%s_se\" % term]\n",
    "  ee = ee[[\"Variable\", \"lcb\", \"ucb\", term]]\n",
    "  ee = ee.set_index(\"Variable\").stack().reset_index()\n",
    "  ee.columns = [\"Variable\", \"hue\", term]\n",
    "  ee[\"hue\"] = ee[\"hue\"].replace({\"lcb\": \"cb\", \"ucb\": \"cb\"})\n",
    "  ee = ee.sort_values(term)\n",
    "  sns.stripplot(data=ee, y=\"Variable\", x=term, hue=\"hue\")\n",
    "  plt.axvline(x=0, color=\"grey\")\n",
    "  plt.gca().legend().set_visible(False)"
   ]
  },
  {
   "cell_type": "markdown",
   "metadata": {},
   "source": [
    "First we plot the standardized main effects and their 95% confidence intervals.  These are the main effects (or \"simple effects\") for diet (restricted minus control) in the older mice.  The heart rate, HDL, cholesterol, etc. are lower in mice on restricted diets than mice on ad lib diets."
   ]
  },
  {
   "cell_type": "code",
   "execution_count": null,
   "metadata": {
    "colab": {
     "base_uri": "https://localhost:8080/",
     "height": 1000
    },
    "id": "D-abgOYHnyyE",
    "outputId": "a50849a7-1816-46f4-f976-2afe28dd39c5"
   },
   "outputs": [],
   "source": [
    "gen_anova_seffect_plot(\"restricted_main_s\")"
   ]
  },
  {
   "cell_type": "markdown",
   "metadata": {},
   "source": [
    "Next we look at standardized \"difference of differences\", none of which are significantly different from zero."
   ]
  },
  {
   "cell_type": "code",
   "execution_count": null,
   "metadata": {
    "colab": {
     "base_uri": "https://localhost:8080/",
     "height": 1000
    },
    "id": "wUHUHsxQPQkR",
    "outputId": "1d7554cb-dc10-4645-e895-7116a4c14379"
   },
   "outputs": [],
   "source": [
    "gen_anova_seffect_plot(\"interaction_s\")"
   ]
  },
  {
   "cell_type": "markdown",
   "metadata": {},
   "source": [
    "## Multivariate analyses\n",
    "\n",
    "Next we use principal component analysis and biplots to undestand the joint behavior of the phenotypes in aging mice.\n",
    "\n",
    "First we create a function that creates a single dataframe containing all phenotypes.  These are the phenotypes from the observational component of the study that are shown in figure 2 of the paper.  Since there are repeated observations (multiple independent mice) for each phenotype at each age, we summarize the repeated values here, using the mean and the standard deviation."
   ]
  },
  {
   "cell_type": "code",
   "execution_count": null,
   "metadata": {},
   "outputs": [],
   "source": [
    "def get_all_data(dset):\n",
    "    ages, pheno_mean, pheno_sd = [], [], []\n",
    "    kyx = md[dset].keys()\n",
    "    for k in kyx:\n",
    "        vname, da = get_data(dset, k, standardize=True)\n",
    "        da = da.sort_values(\"age\")\n",
    "        dg = da.groupby(\"age\")[da.columns[1]].agg([np.mean, np.std])\n",
    "        ages.append(dg.index)\n",
    "        pheno_mean.append(dg[\"mean\"].values)\n",
    "        pheno_sd.append(dg[\"std\"].values)\n",
    "    ages = ages[0]\n",
    "    d1 = np.vstack(pheno_mean)\n",
    "    d2 = np.vstack(pheno_sd)\n",
    "    d1 = pd.DataFrame(d1, index=kyx, columns=[\"%d_mn\" % a for a in ages])\n",
    "    d2 = pd.DataFrame(d2, index=kyx, columns=[\"%d_sd\" % a for a in ages])\n",
    "    return pd.concat((d1, d2), axis=1)"
   ]
  },
  {
   "cell_type": "markdown",
   "metadata": {},
   "source": [
    "Below is an analogous function for the interventional data:"
   ]
  },
  {
   "cell_type": "code",
   "execution_count": null,
   "metadata": {},
   "outputs": [],
   "source": [
    "def get_all_data_intervention(dset):\n",
    "    ages, diets, pheno_mean, pheno_sd = [], [], [], []\n",
    "    kyx = md[dset].keys()\n",
    "    for k in kyx:\n",
    "        vname, da = get_data(dset, k, convert_age=False, standardize=True)\n",
    "        da = da.sort_values(\"age\")\n",
    "        dg = da.groupby([\"age\", \"diet\"])[da.columns[2]].agg([np.mean, np.std])\n",
    "        dg = dg.reset_index()\n",
    "        dg = dg.sort_values([\"age\", \"diet\"])\n",
    "        ages.append(dg[\"age\"])\n",
    "        diets.append(dg[\"diet\"])\n",
    "        pheno_mean.append(dg[\"mean\"].values)\n",
    "        pheno_sd.append(dg[\"std\"].values)\n",
    "    ages = ages[0]\n",
    "    diets = diets[0]\n",
    "    d1 = np.vstack(pheno_mean)\n",
    "    d2 = np.vstack(pheno_sd)\n",
    "    cols = [\"%s_%s_mn\" % (x, y) for (x, y) in zip(ages, diets)]\n",
    "    d1 = pd.DataFrame(d1, index=kyx, columns=cols)\n",
    "    cols = [\"%s_%s_sd\" % (x, y) for (x, y) in zip(ages, diets)]\n",
    "    d2 = pd.DataFrame(d2, index=kyx, columns=cols)\n",
    "    return pd.concat((d1, d2), axis=1)"
   ]
  },
  {
   "cell_type": "markdown",
   "metadata": {},
   "source": [
    "Below are the aggregated summary statistics for the interventional study."
   ]
  },
  {
   "cell_type": "code",
   "execution_count": null,
   "metadata": {},
   "outputs": [],
   "source": [
    "dci = get_all_data_intervention(\"Figure5_phenotypes\")\n",
    "dci.head()"
   ]
  },
  {
   "cell_type": "markdown",
   "metadata": {},
   "source": [
    "Next we use the function constructed above to obtain a dataframe."
   ]
  },
  {
   "cell_type": "code",
   "execution_count": null,
   "metadata": {},
   "outputs": [],
   "source": [
    "dset = \"Figure2_phenotypes\"\n",
    "dc = get_all_data(dset)\n",
    "\n",
    "# Remove a few phenotypes for which the SD cannot be computed (due to n=1)\n",
    "dc = dc.loc[pd.notnull(dc).all(1), :]"
   ]
  },
  {
   "cell_type": "markdown",
   "metadata": {},
   "source": [
    "The top few rows of the dataframe are shown below.  Columns ending in \"mn\" contain means and columns ending in \"sd\" contain standard deviations."
   ]
  },
  {
   "cell_type": "code",
   "execution_count": null,
   "metadata": {},
   "outputs": [],
   "source": [
    "dc.head()"
   ]
  },
  {
   "cell_type": "markdown",
   "metadata": {},
   "source": [
    "Below we create a biplot of the phenotypes means.  This is an interactive plot so you can use the mouse to identify the ages (green squares) and phenotypes (blue points)."
   ]
  },
  {
   "cell_type": "code",
   "execution_count": null,
   "metadata": {},
   "outputs": [],
   "source": [
    "dcmn = dc.loc[:, [not(\"sd\" in x) for x in dc.columns]]\n",
    "pca = prince.PCA(n_components=2)\n",
    "pca = pca.fit(dcmn)\n",
    "pca.plot(dcmn)"
   ]
  },
  {
   "cell_type": "markdown",
   "metadata": {},
   "source": [
    "Unsurprisingly, the mouse ages (green squares) are arranged in accordance with their numeric values.  In this case, the younger ages (3-8) are on the right side of the plot, the older ages (20-26) are on the left side of the plot, and the middle age (14) is at the top of the plot.\n",
    "\n",
    "Two phenotypes that fall close together will generally have similar values.  Note that the points \"DisTTot\" and \"WholeAverSpeed\" fall near each other in the cell (2, 3) x (1, 2).  Note that their values below are quite similar."
   ]
  },
  {
   "cell_type": "code",
   "execution_count": null,
   "metadata": {},
   "outputs": [],
   "source": [
    "dcmn.loc[[\"DisTTot\", \"WholeAverSpeed\"]]"
   ]
  },
  {
   "cell_type": "markdown",
   "metadata": {},
   "source": [
    "Now we can identify some points that fall close to the 3 months and 5 month points, such as NK and ST110.  These variables peak in the early ages."
   ]
  },
  {
   "cell_type": "code",
   "execution_count": null,
   "metadata": {},
   "outputs": [],
   "source": [
    "dcmn.loc[[\"NK\", \"ST110\"]]"
   ]
  },
  {
   "cell_type": "markdown",
   "metadata": {},
   "source": [
    "Phenotypes near the top of the plot peak during middle ages:"
   ]
  },
  {
   "cell_type": "code",
   "execution_count": null,
   "metadata": {},
   "outputs": [],
   "source": [
    "dcmn.loc[[\"Fat_mass_NMR\", \"B2\"]]"
   ]
  },
  {
   "cell_type": "markdown",
   "metadata": {},
   "source": [
    "Phenotypes that fall on the left side of the plot peak during the later ages."
   ]
  },
  {
   "cell_type": "code",
   "execution_count": null,
   "metadata": {},
   "outputs": [],
   "source": [
    "dcmn.loc[[\"CD8\", \"PLT\", \"Kidney_weight\"]]"
   ]
  },
  {
   "cell_type": "markdown",
   "metadata": {},
   "source": [
    "Above we only considered the mean value of each phenotype within each age group.  We can also consider the dispersion, as measured by the standard deviation (SD)."
   ]
  },
  {
   "cell_type": "code",
   "execution_count": null,
   "metadata": {},
   "outputs": [],
   "source": [
    "pca = prince.PCA(n_components=2)\n",
    "pca = pca.fit(dc)\n",
    "pca.plot(dc)"
   ]
  },
  {
   "cell_type": "markdown",
   "metadata": {},
   "source": [
    "Four phenotypes whose scores fall in the upper right corner of the plot have distinct age-specific patterns of mean levels (peaking at 20 months), and distinct patterns of variation (also peaking at 20 months)."
   ]
  },
  {
   "cell_type": "code",
   "execution_count": null,
   "metadata": {},
   "outputs": [],
   "source": [
    "dc.loc[[\"Ekrea\", \"AP\", \"conc_IL6\"]]"
   ]
  }
 ],
 "metadata": {
  "colab": {
   "provenance": []
  },
  "kernelspec": {
   "display_name": "Python 3 (ipykernel)",
   "language": "python",
   "name": "python3"
  },
  "language_info": {
   "codemirror_mode": {
    "name": "ipython",
    "version": 3
   },
   "file_extension": ".py",
   "mimetype": "text/x-python",
   "name": "python",
   "nbconvert_exporter": "python",
   "pygments_lexer": "ipython3",
   "version": "3.10.9"
  }
 },
 "nbformat": 4,
 "nbformat_minor": 1
}
